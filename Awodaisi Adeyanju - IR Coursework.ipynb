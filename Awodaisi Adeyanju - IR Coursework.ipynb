{
 "cells": [
  {
   "cell_type": "markdown",
   "metadata": {},
   "source": [
    "NAME: Awodaisi Adeyanju\n",
    "STUDENT ID: 10029592\n",
    "Module Title :Information Retrieval\n",
    "Module Code: 7071CEM\n",
    "Assignment Title: To Develop a vertical search engine\n"
   ]
  },
  {
   "cell_type": "code",
   "execution_count": 1,
   "metadata": {},
   "outputs": [],
   "source": [
    "## importing a libraries need for the construction of the vertical search engines \n",
    "import pandas as pd\n",
    "import numpy as np\n",
    "import requests\n",
    "import re\n",
    "from requests import get\n",
    "from bs4 import BeautifulSoup\n",
    "from time import sleep\n",
    "from random import randint\n",
    "\n",
    "#To creat the profile for the each of the persons\n",
    "profile=[ ]\n",
    "\n",
    "feed = requests.get('https://pureportal.coventry.ac.uk/en/organisations/coventry-university/persons/')\n",
    "source= feed.text\n",
    "soup= BeautifulSoup(source, 'html.parser')\n",
    "\n",
    "for item in soup.find_all(\"h3\", class_= 'title'):\n",
    "    tag= item.find('a')\n",
    "    link= tag.attrs['href']\n",
    "\n",
    "    profile.append(link)\n",
    "    \n",
    "    \n",
    "    \n",
    "#To spool all link in the each profile\n",
    "Publication=[]\n",
    "\n",
    "for url in profile:\n",
    "    \n",
    "    profile_page = requests.get(url)\n",
    "    html = profile_page.text\n",
    "    soup = BeautifulSoup(html, \"html.parser\")\n",
    "    #time.sleep(2)\n",
    "    for main in soup.find_all('h3', class_ ='title'): \n",
    "        newpage= main.find('a')\n",
    "        url= newpage['href']\n",
    "        if 'https://pureportal.coventry.ac.uk/en/publications/' not in url:\n",
    "          continue\n",
    "       \n",
    "        Publication.append(url)"
   ]
  },
  {
   "cell_type": "code",
   "execution_count": 2,
   "metadata": {},
   "outputs": [],
   "source": [
    "       \n",
    "# Extracting the title, author, abstract and link to paper for each of the staff's publication\n",
    "Publications= []\n",
    "Authors= []\n",
    "Links= []\n",
    "\n",
    "\n",
    "for item2 in Publication:\n",
    "    content = requests.get(item2)\n",
    "    html = content.text\n",
    "    soup1 = BeautifulSoup(html, \"html.parser\")\n",
    "\n",
    "\n",
    "# To extract title for each of the publication\n",
    "    for i in soup1.findAll('div', class_= 'row'):\n",
    "        div_book= i.findChild('div', class_= 'rendering')\n",
    "        book = div_book.find('h1')\n",
    "        Publications.append(book.text)\n",
    "\n",
    "      \n",
    "\n",
    "# To spool all Authors per publication \n",
    "    for i in soup1.findAll('p', class_= 'relations persons'):\n",
    "        author= i.findChild('span').text\n",
    "        Authors.append(author)"
   ]
  },
  {
   "cell_type": "code",
   "execution_count": 3,
   "metadata": {},
   "outputs": [
    {
     "data": {
      "text/html": [
       "<div>\n",
       "<style scoped>\n",
       "    .dataframe tbody tr th:only-of-type {\n",
       "        vertical-align: middle;\n",
       "    }\n",
       "\n",
       "    .dataframe tbody tr th {\n",
       "        vertical-align: top;\n",
       "    }\n",
       "\n",
       "    .dataframe thead th {\n",
       "        text-align: right;\n",
       "    }\n",
       "</style>\n",
       "<table border=\"1\" class=\"dataframe\">\n",
       "  <thead>\n",
       "    <tr style=\"text-align: right;\">\n",
       "      <th></th>\n",
       "      <th>Publications</th>\n",
       "      <th>Author</th>\n",
       "      <th>Links</th>\n",
       "    </tr>\n",
       "  </thead>\n",
       "  <tbody>\n",
       "    <tr>\n",
       "      <th>0</th>\n",
       "      <td>Enhancing CO2 solubility in the aquifer with t...</td>\n",
       "      <td>Mohsen Abbaszadeh</td>\n",
       "      <td>https://pureportal.coventry.ac.uk/en/publicati...</td>\n",
       "    </tr>\n",
       "    <tr>\n",
       "      <th>1</th>\n",
       "      <td>Investigating the Impact of Temperature on Rel...</td>\n",
       "      <td>Mohsen Abbaszadeh</td>\n",
       "      <td>https://pureportal.coventry.ac.uk/en/publicati...</td>\n",
       "    </tr>\n",
       "    <tr>\n",
       "      <th>2</th>\n",
       "      <td>The influence of temperature on wettability al...</td>\n",
       "      <td>Mohsen Abbaszadeh</td>\n",
       "      <td>https://pureportal.coventry.ac.uk/en/publicati...</td>\n",
       "    </tr>\n",
       "    <tr>\n",
       "      <th>3</th>\n",
       "      <td>Accelerating CO2 Solubility in Brine With Low ...</td>\n",
       "      <td>Mohsen Abbaszadeh</td>\n",
       "      <td>https://pureportal.coventry.ac.uk/en/publicati...</td>\n",
       "    </tr>\n",
       "    <tr>\n",
       "      <th>4</th>\n",
       "      <td>Investigating The Impact Of Relative Permeabil...</td>\n",
       "      <td>Mohsen Abbaszadeh</td>\n",
       "      <td>https://pureportal.coventry.ac.uk/en/publicati...</td>\n",
       "    </tr>\n",
       "    <tr>\n",
       "      <th>...</th>\n",
       "      <td>...</td>\n",
       "      <td>...</td>\n",
       "      <td>...</td>\n",
       "    </tr>\n",
       "    <tr>\n",
       "      <th>104</th>\n",
       "      <td>Investigating the Effect of Mass Variation for...</td>\n",
       "      <td>Mohammed Ahmed</td>\n",
       "      <td>https://pureportal.coventry.ac.uk/en/publicati...</td>\n",
       "    </tr>\n",
       "    <tr>\n",
       "      <th>105</th>\n",
       "      <td>A new method towards achieving FES-induced mov...</td>\n",
       "      <td>M. Ahmed</td>\n",
       "      <td>https://pureportal.coventry.ac.uk/en/publicati...</td>\n",
       "    </tr>\n",
       "    <tr>\n",
       "      <th>106</th>\n",
       "      <td>Restoration of Movement using FES: An Introduc...</td>\n",
       "      <td>M. Ahmed</td>\n",
       "      <td>https://pureportal.coventry.ac.uk/en/publicati...</td>\n",
       "    </tr>\n",
       "    <tr>\n",
       "      <th>107</th>\n",
       "      <td>Kinematic modelling of FES induced sit-to-stan...</td>\n",
       "      <td>Mohammed Ahmed</td>\n",
       "      <td>https://pureportal.coventry.ac.uk/en/publicati...</td>\n",
       "    </tr>\n",
       "    <tr>\n",
       "      <th>108</th>\n",
       "      <td>SMC scheme for FES aided restoration of STS mo...</td>\n",
       "      <td>Mohammed Ahmed</td>\n",
       "      <td>https://pureportal.coventry.ac.uk/en/publicati...</td>\n",
       "    </tr>\n",
       "  </tbody>\n",
       "</table>\n",
       "<p>109 rows × 3 columns</p>\n",
       "</div>"
      ],
      "text/plain": [
       "                                          Publications             Author  \\\n",
       "0    Enhancing CO2 solubility in the aquifer with t...  Mohsen Abbaszadeh   \n",
       "1    Investigating the Impact of Temperature on Rel...  Mohsen Abbaszadeh   \n",
       "2    The influence of temperature on wettability al...  Mohsen Abbaszadeh   \n",
       "3    Accelerating CO2 Solubility in Brine With Low ...  Mohsen Abbaszadeh   \n",
       "4    Investigating The Impact Of Relative Permeabil...  Mohsen Abbaszadeh   \n",
       "..                                                 ...                ...   \n",
       "104  Investigating the Effect of Mass Variation for...     Mohammed Ahmed   \n",
       "105  A new method towards achieving FES-induced mov...           M. Ahmed   \n",
       "106  Restoration of Movement using FES: An Introduc...           M. Ahmed   \n",
       "107  Kinematic modelling of FES induced sit-to-stan...     Mohammed Ahmed   \n",
       "108  SMC scheme for FES aided restoration of STS mo...     Mohammed Ahmed   \n",
       "\n",
       "                                                 Links  \n",
       "0    https://pureportal.coventry.ac.uk/en/publicati...  \n",
       "1    https://pureportal.coventry.ac.uk/en/publicati...  \n",
       "2    https://pureportal.coventry.ac.uk/en/publicati...  \n",
       "3    https://pureportal.coventry.ac.uk/en/publicati...  \n",
       "4    https://pureportal.coventry.ac.uk/en/publicati...  \n",
       "..                                                 ...  \n",
       "104  https://pureportal.coventry.ac.uk/en/publicati...  \n",
       "105  https://pureportal.coventry.ac.uk/en/publicati...  \n",
       "106  https://pureportal.coventry.ac.uk/en/publicati...  \n",
       "107  https://pureportal.coventry.ac.uk/en/publicati...  \n",
       "108  https://pureportal.coventry.ac.uk/en/publicati...  \n",
       "\n",
       "[109 rows x 3 columns]"
      ]
     },
     "execution_count": 3,
     "metadata": {},
     "output_type": "execute_result"
    }
   ],
   "source": [
    "# creating a dataframe called profile_table that containing all crawled information\n",
    "profile_table= pd.DataFrame({\n",
    "'Publications': Publications,\n",
    "'Author': Authors,\n",
    "'Links': Publication\n",
    "})\n",
    "\n",
    "\n",
    "profile_table"
   ]
  },
  {
   "cell_type": "code",
   "execution_count": 4,
   "metadata": {},
   "outputs": [
    {
     "data": {
      "text/html": [
       "<div>\n",
       "<style scoped>\n",
       "    .dataframe tbody tr th:only-of-type {\n",
       "        vertical-align: middle;\n",
       "    }\n",
       "\n",
       "    .dataframe tbody tr th {\n",
       "        vertical-align: top;\n",
       "    }\n",
       "\n",
       "    .dataframe thead th {\n",
       "        text-align: right;\n",
       "    }\n",
       "</style>\n",
       "<table border=\"1\" class=\"dataframe\">\n",
       "  <thead>\n",
       "    <tr style=\"text-align: right;\">\n",
       "      <th></th>\n",
       "      <th>Publications</th>\n",
       "      <th>Author</th>\n",
       "      <th>Links</th>\n",
       "      <th>ID</th>\n",
       "    </tr>\n",
       "  </thead>\n",
       "  <tbody>\n",
       "    <tr>\n",
       "      <th>0</th>\n",
       "      <td>Enhancing CO2 solubility in the aquifer with t...</td>\n",
       "      <td>Mohsen Abbaszadeh</td>\n",
       "      <td>https://pureportal.coventry.ac.uk/en/publicati...</td>\n",
       "      <td>1</td>\n",
       "    </tr>\n",
       "    <tr>\n",
       "      <th>1</th>\n",
       "      <td>Investigating the Impact of Temperature on Rel...</td>\n",
       "      <td>Mohsen Abbaszadeh</td>\n",
       "      <td>https://pureportal.coventry.ac.uk/en/publicati...</td>\n",
       "      <td>2</td>\n",
       "    </tr>\n",
       "    <tr>\n",
       "      <th>2</th>\n",
       "      <td>The influence of temperature on wettability al...</td>\n",
       "      <td>Mohsen Abbaszadeh</td>\n",
       "      <td>https://pureportal.coventry.ac.uk/en/publicati...</td>\n",
       "      <td>3</td>\n",
       "    </tr>\n",
       "    <tr>\n",
       "      <th>3</th>\n",
       "      <td>Accelerating CO2 Solubility in Brine With Low ...</td>\n",
       "      <td>Mohsen Abbaszadeh</td>\n",
       "      <td>https://pureportal.coventry.ac.uk/en/publicati...</td>\n",
       "      <td>4</td>\n",
       "    </tr>\n",
       "    <tr>\n",
       "      <th>4</th>\n",
       "      <td>Investigating The Impact Of Relative Permeabil...</td>\n",
       "      <td>Mohsen Abbaszadeh</td>\n",
       "      <td>https://pureportal.coventry.ac.uk/en/publicati...</td>\n",
       "      <td>5</td>\n",
       "    </tr>\n",
       "    <tr>\n",
       "      <th>...</th>\n",
       "      <td>...</td>\n",
       "      <td>...</td>\n",
       "      <td>...</td>\n",
       "      <td>...</td>\n",
       "    </tr>\n",
       "    <tr>\n",
       "      <th>104</th>\n",
       "      <td>Investigating the Effect of Mass Variation for...</td>\n",
       "      <td>Mohammed Ahmed</td>\n",
       "      <td>https://pureportal.coventry.ac.uk/en/publicati...</td>\n",
       "      <td>105</td>\n",
       "    </tr>\n",
       "    <tr>\n",
       "      <th>105</th>\n",
       "      <td>A new method towards achieving FES-induced mov...</td>\n",
       "      <td>M. Ahmed</td>\n",
       "      <td>https://pureportal.coventry.ac.uk/en/publicati...</td>\n",
       "      <td>106</td>\n",
       "    </tr>\n",
       "    <tr>\n",
       "      <th>106</th>\n",
       "      <td>Restoration of Movement using FES: An Introduc...</td>\n",
       "      <td>M. Ahmed</td>\n",
       "      <td>https://pureportal.coventry.ac.uk/en/publicati...</td>\n",
       "      <td>107</td>\n",
       "    </tr>\n",
       "    <tr>\n",
       "      <th>107</th>\n",
       "      <td>Kinematic modelling of FES induced sit-to-stan...</td>\n",
       "      <td>Mohammed Ahmed</td>\n",
       "      <td>https://pureportal.coventry.ac.uk/en/publicati...</td>\n",
       "      <td>108</td>\n",
       "    </tr>\n",
       "    <tr>\n",
       "      <th>108</th>\n",
       "      <td>SMC scheme for FES aided restoration of STS mo...</td>\n",
       "      <td>Mohammed Ahmed</td>\n",
       "      <td>https://pureportal.coventry.ac.uk/en/publicati...</td>\n",
       "      <td>109</td>\n",
       "    </tr>\n",
       "  </tbody>\n",
       "</table>\n",
       "<p>109 rows × 4 columns</p>\n",
       "</div>"
      ],
      "text/plain": [
       "                                          Publications             Author  \\\n",
       "0    Enhancing CO2 solubility in the aquifer with t...  Mohsen Abbaszadeh   \n",
       "1    Investigating the Impact of Temperature on Rel...  Mohsen Abbaszadeh   \n",
       "2    The influence of temperature on wettability al...  Mohsen Abbaszadeh   \n",
       "3    Accelerating CO2 Solubility in Brine With Low ...  Mohsen Abbaszadeh   \n",
       "4    Investigating The Impact Of Relative Permeabil...  Mohsen Abbaszadeh   \n",
       "..                                                 ...                ...   \n",
       "104  Investigating the Effect of Mass Variation for...     Mohammed Ahmed   \n",
       "105  A new method towards achieving FES-induced mov...           M. Ahmed   \n",
       "106  Restoration of Movement using FES: An Introduc...           M. Ahmed   \n",
       "107  Kinematic modelling of FES induced sit-to-stan...     Mohammed Ahmed   \n",
       "108  SMC scheme for FES aided restoration of STS mo...     Mohammed Ahmed   \n",
       "\n",
       "                                                 Links   ID  \n",
       "0    https://pureportal.coventry.ac.uk/en/publicati...    1  \n",
       "1    https://pureportal.coventry.ac.uk/en/publicati...    2  \n",
       "2    https://pureportal.coventry.ac.uk/en/publicati...    3  \n",
       "3    https://pureportal.coventry.ac.uk/en/publicati...    4  \n",
       "4    https://pureportal.coventry.ac.uk/en/publicati...    5  \n",
       "..                                                 ...  ...  \n",
       "104  https://pureportal.coventry.ac.uk/en/publicati...  105  \n",
       "105  https://pureportal.coventry.ac.uk/en/publicati...  106  \n",
       "106  https://pureportal.coventry.ac.uk/en/publicati...  107  \n",
       "107  https://pureportal.coventry.ac.uk/en/publicati...  108  \n",
       "108  https://pureportal.coventry.ac.uk/en/publicati...  109  \n",
       "\n",
       "[109 rows x 4 columns]"
      ]
     },
     "execution_count": 4,
     "metadata": {},
     "output_type": "execute_result"
    }
   ],
   "source": [
    "#To insert a new column called ID into the dataframe\n",
    "profile_table['ID'] = [x for x in range(1, len(profile_table.values)+1)]\n",
    "\n",
    "\n",
    "profile_table"
   ]
  },
  {
   "cell_type": "code",
   "execution_count": 5,
   "metadata": {},
   "outputs": [
    {
     "data": {
      "text/html": [
       "<div>\n",
       "<style scoped>\n",
       "    .dataframe tbody tr th:only-of-type {\n",
       "        vertical-align: middle;\n",
       "    }\n",
       "\n",
       "    .dataframe tbody tr th {\n",
       "        vertical-align: top;\n",
       "    }\n",
       "\n",
       "    .dataframe thead th {\n",
       "        text-align: right;\n",
       "    }\n",
       "</style>\n",
       "<table border=\"1\" class=\"dataframe\">\n",
       "  <thead>\n",
       "    <tr style=\"text-align: right;\">\n",
       "      <th></th>\n",
       "      <th>Publications</th>\n",
       "      <th>Author</th>\n",
       "      <th>Links</th>\n",
       "      <th>ID</th>\n",
       "    </tr>\n",
       "  </thead>\n",
       "  <tbody>\n",
       "    <tr>\n",
       "      <th>0</th>\n",
       "      <td>Enhancing CO2 solubility in the aquifer with t...</td>\n",
       "      <td>Mohsen Abbaszadeh</td>\n",
       "      <td>https://pureportal.coventry.ac.uk/en/publicati...</td>\n",
       "      <td>1</td>\n",
       "    </tr>\n",
       "    <tr>\n",
       "      <th>1</th>\n",
       "      <td>Investigating the Impact of Temperature on Rel...</td>\n",
       "      <td>Mohsen Abbaszadeh</td>\n",
       "      <td>https://pureportal.coventry.ac.uk/en/publicati...</td>\n",
       "      <td>2</td>\n",
       "    </tr>\n",
       "    <tr>\n",
       "      <th>2</th>\n",
       "      <td>The influence of temperature on wettability al...</td>\n",
       "      <td>Mohsen Abbaszadeh</td>\n",
       "      <td>https://pureportal.coventry.ac.uk/en/publicati...</td>\n",
       "      <td>3</td>\n",
       "    </tr>\n",
       "    <tr>\n",
       "      <th>3</th>\n",
       "      <td>Accelerating CO2 Solubility in Brine With Low ...</td>\n",
       "      <td>Mohsen Abbaszadeh</td>\n",
       "      <td>https://pureportal.coventry.ac.uk/en/publicati...</td>\n",
       "      <td>4</td>\n",
       "    </tr>\n",
       "    <tr>\n",
       "      <th>4</th>\n",
       "      <td>Investigating The Impact Of Relative Permeabil...</td>\n",
       "      <td>Mohsen Abbaszadeh</td>\n",
       "      <td>https://pureportal.coventry.ac.uk/en/publicati...</td>\n",
       "      <td>5</td>\n",
       "    </tr>\n",
       "    <tr>\n",
       "      <th>...</th>\n",
       "      <td>...</td>\n",
       "      <td>...</td>\n",
       "      <td>...</td>\n",
       "      <td>...</td>\n",
       "    </tr>\n",
       "    <tr>\n",
       "      <th>104</th>\n",
       "      <td>Investigating the Effect of Mass Variation for...</td>\n",
       "      <td>Mohammed Ahmed</td>\n",
       "      <td>https://pureportal.coventry.ac.uk/en/publicati...</td>\n",
       "      <td>105</td>\n",
       "    </tr>\n",
       "    <tr>\n",
       "      <th>105</th>\n",
       "      <td>A new method towards achieving FES-induced mov...</td>\n",
       "      <td>M. Ahmed</td>\n",
       "      <td>https://pureportal.coventry.ac.uk/en/publicati...</td>\n",
       "      <td>106</td>\n",
       "    </tr>\n",
       "    <tr>\n",
       "      <th>106</th>\n",
       "      <td>Restoration of Movement using FES: An Introduc...</td>\n",
       "      <td>M. Ahmed</td>\n",
       "      <td>https://pureportal.coventry.ac.uk/en/publicati...</td>\n",
       "      <td>107</td>\n",
       "    </tr>\n",
       "    <tr>\n",
       "      <th>107</th>\n",
       "      <td>Kinematic modelling of FES induced sit-to-stan...</td>\n",
       "      <td>Mohammed Ahmed</td>\n",
       "      <td>https://pureportal.coventry.ac.uk/en/publicati...</td>\n",
       "      <td>108</td>\n",
       "    </tr>\n",
       "    <tr>\n",
       "      <th>108</th>\n",
       "      <td>SMC scheme for FES aided restoration of STS mo...</td>\n",
       "      <td>Mohammed Ahmed</td>\n",
       "      <td>https://pureportal.coventry.ac.uk/en/publicati...</td>\n",
       "      <td>109</td>\n",
       "    </tr>\n",
       "  </tbody>\n",
       "</table>\n",
       "<p>109 rows × 4 columns</p>\n",
       "</div>"
      ],
      "text/plain": [
       "                                          Publications             Author  \\\n",
       "0    Enhancing CO2 solubility in the aquifer with t...  Mohsen Abbaszadeh   \n",
       "1    Investigating the Impact of Temperature on Rel...  Mohsen Abbaszadeh   \n",
       "2    The influence of temperature on wettability al...  Mohsen Abbaszadeh   \n",
       "3    Accelerating CO2 Solubility in Brine With Low ...  Mohsen Abbaszadeh   \n",
       "4    Investigating The Impact Of Relative Permeabil...  Mohsen Abbaszadeh   \n",
       "..                                                 ...                ...   \n",
       "104  Investigating the Effect of Mass Variation for...     Mohammed Ahmed   \n",
       "105  A new method towards achieving FES-induced mov...           M. Ahmed   \n",
       "106  Restoration of Movement using FES: An Introduc...           M. Ahmed   \n",
       "107  Kinematic modelling of FES induced sit-to-stan...     Mohammed Ahmed   \n",
       "108  SMC scheme for FES aided restoration of STS mo...     Mohammed Ahmed   \n",
       "\n",
       "                                                 Links   ID  \n",
       "0    https://pureportal.coventry.ac.uk/en/publicati...    1  \n",
       "1    https://pureportal.coventry.ac.uk/en/publicati...    2  \n",
       "2    https://pureportal.coventry.ac.uk/en/publicati...    3  \n",
       "3    https://pureportal.coventry.ac.uk/en/publicati...    4  \n",
       "4    https://pureportal.coventry.ac.uk/en/publicati...    5  \n",
       "..                                                 ...  ...  \n",
       "104  https://pureportal.coventry.ac.uk/en/publicati...  105  \n",
       "105  https://pureportal.coventry.ac.uk/en/publicati...  106  \n",
       "106  https://pureportal.coventry.ac.uk/en/publicati...  107  \n",
       "107  https://pureportal.coventry.ac.uk/en/publicati...  108  \n",
       "108  https://pureportal.coventry.ac.uk/en/publicati...  109  \n",
       "\n",
       "[109 rows x 4 columns]"
      ]
     },
     "execution_count": 5,
     "metadata": {},
     "output_type": "execute_result"
    }
   ],
   "source": [
    "profile_table"
   ]
  },
  {
   "cell_type": "code",
   "execution_count": 6,
   "metadata": {},
   "outputs": [
    {
     "data": {
      "text/html": [
       "<div>\n",
       "<style scoped>\n",
       "    .dataframe tbody tr th:only-of-type {\n",
       "        vertical-align: middle;\n",
       "    }\n",
       "\n",
       "    .dataframe tbody tr th {\n",
       "        vertical-align: top;\n",
       "    }\n",
       "\n",
       "    .dataframe thead th {\n",
       "        text-align: right;\n",
       "    }\n",
       "</style>\n",
       "<table border=\"1\" class=\"dataframe\">\n",
       "  <thead>\n",
       "    <tr style=\"text-align: right;\">\n",
       "      <th></th>\n",
       "      <th>Unnamed: 0</th>\n",
       "      <th>Publications</th>\n",
       "      <th>Author</th>\n",
       "      <th>Links</th>\n",
       "      <th>ID</th>\n",
       "    </tr>\n",
       "  </thead>\n",
       "  <tbody>\n",
       "    <tr>\n",
       "      <th>0</th>\n",
       "      <td>0</td>\n",
       "      <td>Enhancing CO2 solubility in the aquifer with t...</td>\n",
       "      <td>Mohsen Abbaszadeh</td>\n",
       "      <td>https://pureportal.coventry.ac.uk/en/publicati...</td>\n",
       "      <td>1</td>\n",
       "    </tr>\n",
       "    <tr>\n",
       "      <th>1</th>\n",
       "      <td>1</td>\n",
       "      <td>Investigating the Impact of Temperature on Rel...</td>\n",
       "      <td>Mohsen Abbaszadeh</td>\n",
       "      <td>https://pureportal.coventry.ac.uk/en/publicati...</td>\n",
       "      <td>2</td>\n",
       "    </tr>\n",
       "    <tr>\n",
       "      <th>2</th>\n",
       "      <td>2</td>\n",
       "      <td>The influence of temperature on wettability al...</td>\n",
       "      <td>Mohsen Abbaszadeh</td>\n",
       "      <td>https://pureportal.coventry.ac.uk/en/publicati...</td>\n",
       "      <td>3</td>\n",
       "    </tr>\n",
       "    <tr>\n",
       "      <th>3</th>\n",
       "      <td>3</td>\n",
       "      <td>Accelerating CO2 Solubility in Brine With Low ...</td>\n",
       "      <td>Mohsen Abbaszadeh</td>\n",
       "      <td>https://pureportal.coventry.ac.uk/en/publicati...</td>\n",
       "      <td>4</td>\n",
       "    </tr>\n",
       "    <tr>\n",
       "      <th>4</th>\n",
       "      <td>4</td>\n",
       "      <td>Investigating The Impact Of Relative Permeabil...</td>\n",
       "      <td>Mohsen Abbaszadeh</td>\n",
       "      <td>https://pureportal.coventry.ac.uk/en/publicati...</td>\n",
       "      <td>5</td>\n",
       "    </tr>\n",
       "    <tr>\n",
       "      <th>...</th>\n",
       "      <td>...</td>\n",
       "      <td>...</td>\n",
       "      <td>...</td>\n",
       "      <td>...</td>\n",
       "      <td>...</td>\n",
       "    </tr>\n",
       "    <tr>\n",
       "      <th>104</th>\n",
       "      <td>104</td>\n",
       "      <td>Investigating the Effect of Mass Variation for...</td>\n",
       "      <td>Mohammed Ahmed</td>\n",
       "      <td>https://pureportal.coventry.ac.uk/en/publicati...</td>\n",
       "      <td>105</td>\n",
       "    </tr>\n",
       "    <tr>\n",
       "      <th>105</th>\n",
       "      <td>105</td>\n",
       "      <td>A new method towards achieving FES-induced mov...</td>\n",
       "      <td>M. Ahmed</td>\n",
       "      <td>https://pureportal.coventry.ac.uk/en/publicati...</td>\n",
       "      <td>106</td>\n",
       "    </tr>\n",
       "    <tr>\n",
       "      <th>106</th>\n",
       "      <td>106</td>\n",
       "      <td>Restoration of Movement using FES: An Introduc...</td>\n",
       "      <td>M. Ahmed</td>\n",
       "      <td>https://pureportal.coventry.ac.uk/en/publicati...</td>\n",
       "      <td>107</td>\n",
       "    </tr>\n",
       "    <tr>\n",
       "      <th>107</th>\n",
       "      <td>107</td>\n",
       "      <td>Kinematic modelling of FES induced sit-to-stan...</td>\n",
       "      <td>Mohammed Ahmed</td>\n",
       "      <td>https://pureportal.coventry.ac.uk/en/publicati...</td>\n",
       "      <td>108</td>\n",
       "    </tr>\n",
       "    <tr>\n",
       "      <th>108</th>\n",
       "      <td>108</td>\n",
       "      <td>SMC scheme for FES aided restoration of STS mo...</td>\n",
       "      <td>Mohammed Ahmed</td>\n",
       "      <td>https://pureportal.coventry.ac.uk/en/publicati...</td>\n",
       "      <td>109</td>\n",
       "    </tr>\n",
       "  </tbody>\n",
       "</table>\n",
       "<p>109 rows × 5 columns</p>\n",
       "</div>"
      ],
      "text/plain": [
       "     Unnamed: 0                                       Publications  \\\n",
       "0             0  Enhancing CO2 solubility in the aquifer with t...   \n",
       "1             1  Investigating the Impact of Temperature on Rel...   \n",
       "2             2  The influence of temperature on wettability al...   \n",
       "3             3  Accelerating CO2 Solubility in Brine With Low ...   \n",
       "4             4  Investigating The Impact Of Relative Permeabil...   \n",
       "..          ...                                                ...   \n",
       "104         104  Investigating the Effect of Mass Variation for...   \n",
       "105         105  A new method towards achieving FES-induced mov...   \n",
       "106         106  Restoration of Movement using FES: An Introduc...   \n",
       "107         107  Kinematic modelling of FES induced sit-to-stan...   \n",
       "108         108  SMC scheme for FES aided restoration of STS mo...   \n",
       "\n",
       "                Author                                              Links   ID  \n",
       "0    Mohsen Abbaszadeh  https://pureportal.coventry.ac.uk/en/publicati...    1  \n",
       "1    Mohsen Abbaszadeh  https://pureportal.coventry.ac.uk/en/publicati...    2  \n",
       "2    Mohsen Abbaszadeh  https://pureportal.coventry.ac.uk/en/publicati...    3  \n",
       "3    Mohsen Abbaszadeh  https://pureportal.coventry.ac.uk/en/publicati...    4  \n",
       "4    Mohsen Abbaszadeh  https://pureportal.coventry.ac.uk/en/publicati...    5  \n",
       "..                 ...                                                ...  ...  \n",
       "104     Mohammed Ahmed  https://pureportal.coventry.ac.uk/en/publicati...  105  \n",
       "105           M. Ahmed  https://pureportal.coventry.ac.uk/en/publicati...  106  \n",
       "106           M. Ahmed  https://pureportal.coventry.ac.uk/en/publicati...  107  \n",
       "107     Mohammed Ahmed  https://pureportal.coventry.ac.uk/en/publicati...  108  \n",
       "108     Mohammed Ahmed  https://pureportal.coventry.ac.uk/en/publicati...  109  \n",
       "\n",
       "[109 rows x 5 columns]"
      ]
     },
     "execution_count": 6,
     "metadata": {},
     "output_type": "execute_result"
    }
   ],
   "source": [
    "#To convert profile_table CSV file\n",
    "Book1= profile_table.to_csv('profile_table.csv')\n",
    "\n",
    "\n",
    "Book1= pd.read_csv ('profile_table.csv')\n",
    "\n",
    "Book1"
   ]
  },
  {
   "cell_type": "code",
   "execution_count": 7,
   "metadata": {},
   "outputs": [
    {
     "data": {
      "text/html": [
       "<div>\n",
       "<style scoped>\n",
       "    .dataframe tbody tr th:only-of-type {\n",
       "        vertical-align: middle;\n",
       "    }\n",
       "\n",
       "    .dataframe tbody tr th {\n",
       "        vertical-align: top;\n",
       "    }\n",
       "\n",
       "    .dataframe thead th {\n",
       "        text-align: right;\n",
       "    }\n",
       "</style>\n",
       "<table border=\"1\" class=\"dataframe\">\n",
       "  <thead>\n",
       "    <tr style=\"text-align: right;\">\n",
       "      <th></th>\n",
       "      <th>Publications</th>\n",
       "      <th>Author</th>\n",
       "      <th>Links</th>\n",
       "      <th>ID</th>\n",
       "    </tr>\n",
       "  </thead>\n",
       "  <tbody>\n",
       "    <tr>\n",
       "      <th>0</th>\n",
       "      <td>Enhancing CO2 solubility in the aquifer with t...</td>\n",
       "      <td>Mohsen Abbaszadeh</td>\n",
       "      <td>https://pureportal.coventry.ac.uk/en/publicati...</td>\n",
       "      <td>1</td>\n",
       "    </tr>\n",
       "    <tr>\n",
       "      <th>1</th>\n",
       "      <td>Investigating the Impact of Temperature on Rel...</td>\n",
       "      <td>Mohsen Abbaszadeh</td>\n",
       "      <td>https://pureportal.coventry.ac.uk/en/publicati...</td>\n",
       "      <td>2</td>\n",
       "    </tr>\n",
       "    <tr>\n",
       "      <th>2</th>\n",
       "      <td>The influence of temperature on wettability al...</td>\n",
       "      <td>Mohsen Abbaszadeh</td>\n",
       "      <td>https://pureportal.coventry.ac.uk/en/publicati...</td>\n",
       "      <td>3</td>\n",
       "    </tr>\n",
       "    <tr>\n",
       "      <th>3</th>\n",
       "      <td>Accelerating CO2 Solubility in Brine With Low ...</td>\n",
       "      <td>Mohsen Abbaszadeh</td>\n",
       "      <td>https://pureportal.coventry.ac.uk/en/publicati...</td>\n",
       "      <td>4</td>\n",
       "    </tr>\n",
       "    <tr>\n",
       "      <th>4</th>\n",
       "      <td>Investigating The Impact Of Relative Permeabil...</td>\n",
       "      <td>Mohsen Abbaszadeh</td>\n",
       "      <td>https://pureportal.coventry.ac.uk/en/publicati...</td>\n",
       "      <td>5</td>\n",
       "    </tr>\n",
       "    <tr>\n",
       "      <th>...</th>\n",
       "      <td>...</td>\n",
       "      <td>...</td>\n",
       "      <td>...</td>\n",
       "      <td>...</td>\n",
       "    </tr>\n",
       "    <tr>\n",
       "      <th>104</th>\n",
       "      <td>Investigating the Effect of Mass Variation for...</td>\n",
       "      <td>Mohammed Ahmed</td>\n",
       "      <td>https://pureportal.coventry.ac.uk/en/publicati...</td>\n",
       "      <td>105</td>\n",
       "    </tr>\n",
       "    <tr>\n",
       "      <th>105</th>\n",
       "      <td>A new method towards achieving FES-induced mov...</td>\n",
       "      <td>M. Ahmed</td>\n",
       "      <td>https://pureportal.coventry.ac.uk/en/publicati...</td>\n",
       "      <td>106</td>\n",
       "    </tr>\n",
       "    <tr>\n",
       "      <th>106</th>\n",
       "      <td>Restoration of Movement using FES: An Introduc...</td>\n",
       "      <td>M. Ahmed</td>\n",
       "      <td>https://pureportal.coventry.ac.uk/en/publicati...</td>\n",
       "      <td>107</td>\n",
       "    </tr>\n",
       "    <tr>\n",
       "      <th>107</th>\n",
       "      <td>Kinematic modelling of FES induced sit-to-stan...</td>\n",
       "      <td>Mohammed Ahmed</td>\n",
       "      <td>https://pureportal.coventry.ac.uk/en/publicati...</td>\n",
       "      <td>108</td>\n",
       "    </tr>\n",
       "    <tr>\n",
       "      <th>108</th>\n",
       "      <td>SMC scheme for FES aided restoration of STS mo...</td>\n",
       "      <td>Mohammed Ahmed</td>\n",
       "      <td>https://pureportal.coventry.ac.uk/en/publicati...</td>\n",
       "      <td>109</td>\n",
       "    </tr>\n",
       "  </tbody>\n",
       "</table>\n",
       "<p>109 rows × 4 columns</p>\n",
       "</div>"
      ],
      "text/plain": [
       "                                          Publications             Author  \\\n",
       "0    Enhancing CO2 solubility in the aquifer with t...  Mohsen Abbaszadeh   \n",
       "1    Investigating the Impact of Temperature on Rel...  Mohsen Abbaszadeh   \n",
       "2    The influence of temperature on wettability al...  Mohsen Abbaszadeh   \n",
       "3    Accelerating CO2 Solubility in Brine With Low ...  Mohsen Abbaszadeh   \n",
       "4    Investigating The Impact Of Relative Permeabil...  Mohsen Abbaszadeh   \n",
       "..                                                 ...                ...   \n",
       "104  Investigating the Effect of Mass Variation for...     Mohammed Ahmed   \n",
       "105  A new method towards achieving FES-induced mov...           M. Ahmed   \n",
       "106  Restoration of Movement using FES: An Introduc...           M. Ahmed   \n",
       "107  Kinematic modelling of FES induced sit-to-stan...     Mohammed Ahmed   \n",
       "108  SMC scheme for FES aided restoration of STS mo...     Mohammed Ahmed   \n",
       "\n",
       "                                                 Links   ID  \n",
       "0    https://pureportal.coventry.ac.uk/en/publicati...    1  \n",
       "1    https://pureportal.coventry.ac.uk/en/publicati...    2  \n",
       "2    https://pureportal.coventry.ac.uk/en/publicati...    3  \n",
       "3    https://pureportal.coventry.ac.uk/en/publicati...    4  \n",
       "4    https://pureportal.coventry.ac.uk/en/publicati...    5  \n",
       "..                                                 ...  ...  \n",
       "104  https://pureportal.coventry.ac.uk/en/publicati...  105  \n",
       "105  https://pureportal.coventry.ac.uk/en/publicati...  106  \n",
       "106  https://pureportal.coventry.ac.uk/en/publicati...  107  \n",
       "107  https://pureportal.coventry.ac.uk/en/publicati...  108  \n",
       "108  https://pureportal.coventry.ac.uk/en/publicati...  109  \n",
       "\n",
       "[109 rows x 4 columns]"
      ]
     },
     "execution_count": 7,
     "metadata": {},
     "output_type": "execute_result"
    }
   ],
   "source": [
    "Book1= Book1.drop('Unnamed: 0', 1) # To delete unnamed columns\n",
    "\n",
    "Book1"
   ]
  },
  {
   "cell_type": "markdown",
   "metadata": {},
   "source": [
    "INDEXING Of The Crawled Informations"
   ]
  },
  {
   "cell_type": "code",
   "execution_count": 8,
   "metadata": {},
   "outputs": [
    {
     "name": "stderr",
     "output_type": "stream",
     "text": [
      "[nltk_data] Downloading package averaged_perceptron_tagger to\n",
      "[nltk_data]     C:\\Users\\FelixAdeyanju\\AppData\\Roaming\\nltk_data...\n",
      "[nltk_data]   Package averaged_perceptron_tagger is already up-to-\n",
      "[nltk_data]       date!\n",
      "[nltk_data] Downloading package wordnet to\n",
      "[nltk_data]     C:\\Users\\FelixAdeyanju\\AppData\\Roaming\\nltk_data...\n",
      "[nltk_data]   Package wordnet is already up-to-date!\n",
      "[nltk_data] Downloading package stopwords to\n",
      "[nltk_data]     C:\\Users\\FelixAdeyanju\\AppData\\Roaming\\nltk_data...\n",
      "[nltk_data]   Package stopwords is already up-to-date!\n",
      "[nltk_data] Downloading package punkt to\n",
      "[nltk_data]     C:\\Users\\FelixAdeyanju\\AppData\\Roaming\\nltk_data...\n",
      "[nltk_data]   Package punkt is already up-to-date!\n"
     ]
    }
   ],
   "source": [
    "#To index the Crawled Information (Book1)\n",
    "#importing Libraries\n",
    "import nltk\n",
    "nltk.download('averaged_perceptron_tagger')\n",
    "nltk.download('wordnet')\n",
    "nltk.download('stopwords')\n",
    "nltk.download('punkt')\n",
    "from nltk.corpus import stopwords\n",
    "from nltk.corpus import wordnet\n",
    "from nltk import pos_tag\n",
    "from nltk.stem import WordNetLemmatizer \n",
    "import string"
   ]
  },
  {
   "cell_type": "code",
   "execution_count": 9,
   "metadata": {},
   "outputs": [
    {
     "data": {
      "text/plain": [
       "Publications    Enhancing CO2 solubility in the aquifer with t...\n",
       "Author                                          Mohsen Abbaszadeh\n",
       "Links           https://pureportal.coventry.ac.uk/en/publicati...\n",
       "ID                                                              1\n",
       "Name: 0, dtype: object"
      ]
     },
     "execution_count": 9,
     "metadata": {},
     "output_type": "execute_result"
    }
   ],
   "source": [
    "single_entry = Book1.loc[0,:].copy() #To retrieve the first row and copy it into the variable called single_entry\n",
    "single_entry"
   ]
  },
  {
   "cell_type": "code",
   "execution_count": 10,
   "metadata": {},
   "outputs": [],
   "source": [
    "#To perfomr the Data cleaning of the retrieved information\n",
    "# To convert all the words to lower case and remove all puntunation marks \n",
    "def process_string(text):\n",
    "  text = text.lower() #to lowercase\n",
    "  text = text.translate(str.maketrans('', '', string.punctuation)) #strip punctuation\n",
    "  return text"
   ]
  },
  {
   "cell_type": "code",
   "execution_count": 11,
   "metadata": {},
   "outputs": [
    {
     "name": "stdout",
     "output_type": "stream",
     "text": [
      "were: v\n",
      " Run: v\n",
      " Awodaisi: n\n"
     ]
    }
   ],
   "source": [
    "# Lemmatize with POS Tag. This help to return a tuple of different part of speech. \n",
    "# this also help  to map NLTK's POS tags to the format wordnet lemmatizer would accept.\n",
    "def get_wordnet_pos(word):\n",
    "    \"\"\"Map POS tag to first character lemmatize() accepts\"\"\"\n",
    "    tag = pos_tag([word])[0][1][0].upper()\n",
    "    tag_dict = {\"J\": wordnet.ADJ,\n",
    "                \"N\": wordnet.NOUN,\n",
    "                \"V\": wordnet.VERB,\n",
    "                \"R\": wordnet.ADV}\n",
    "\n",
    "    return tag_dict.get(tag, wordnet.NOUN)\n",
    "\n",
    "\n",
    "\n",
    "# Example: to check if the function created are working\n",
    "print(\"were: {}\\n Run: {}\\n Awodaisi: {}\" .format(get_wordnet_pos(\"were\"), get_wordnet_pos(\"run\"), get_wordnet_pos(\"Awodaisi\")))"
   ]
  },
  {
   "cell_type": "code",
   "execution_count": 12,
   "metadata": {},
   "outputs": [],
   "source": [
    "# To remove all words with no or low significant\n",
    "stop = stopwords.words('english') "
   ]
  },
  {
   "cell_type": "code",
   "execution_count": 13,
   "metadata": {},
   "outputs": [],
   "source": [
    "# this is design to eradicate words of low significant \n",
    "# by iterating over all words in text, lemmatizing it to return \n",
    "#the transformed string\n",
    "\n",
    "lem = WordNetLemmatizer()\n",
    "\n",
    "def stop_lemmatize(doc):\n",
    "    tokens = nltk.word_tokenize(doc)\n",
    "    tmp = \"\"\n",
    "    for w in tokens:\n",
    "        if w not in stop:\n",
    "            tmp += lem.lemmatize(w, get_wordnet_pos(w)) + \" \"\n",
    "    return tmp"
   ]
  },
  {
   "cell_type": "code",
   "execution_count": 14,
   "metadata": {},
   "outputs": [
    {
     "data": {
      "text/plain": [
       "'Enhancing CO2 solubility aquifer use downhole cooler tool '"
      ]
     },
     "execution_count": 14,
     "metadata": {},
     "output_type": "execute_result"
    }
   ],
   "source": [
    "#To retrieve single entry for Publications \n",
    "stop_lemmatize(doc = single_entry.Publications)"
   ]
  },
  {
   "cell_type": "code",
   "execution_count": 15,
   "metadata": {},
   "outputs": [],
   "source": [
    "# To convert words in documents to lower case and remove all puntunation marks\n",
    "def process_string(text):\n",
    "  text = text.lower() #to lowercase\n",
    "  text = text.translate(str.maketrans('', '', string.punctuation)) #strip punctuation\n",
    "  text = stop_lemmatize(text)\n",
    "  return text"
   ]
  },
  {
   "cell_type": "code",
   "execution_count": 16,
   "metadata": {},
   "outputs": [
    {
     "name": "stdout",
     "output_type": "stream",
     "text": [
      "Wall time: 36.9 ms\n"
     ]
    },
    {
     "data": {
      "text/plain": [
       "'enhance co2 solubility aquifer use downhole cooler tool '"
      ]
     },
     "execution_count": 16,
     "metadata": {},
     "output_type": "execute_result"
    }
   ],
   "source": [
    "# check time used to process paper and \n",
    "#notice the output are all in lower case after the function is being applied.\n",
    "%time process_string(single_entry.Publications)"
   ]
  },
  {
   "cell_type": "code",
   "execution_count": 17,
   "metadata": {},
   "outputs": [],
   "source": [
    "#To process for the retrieved \n",
    "#applying string processed function created to all the information retrieved(book) and copy them to Book1.\n",
    "book_processed = Book1.copy()"
   ]
  },
  {
   "cell_type": "code",
   "execution_count": 18,
   "metadata": {},
   "outputs": [],
   "source": [
    "# This transform all the columns in the Book1 to lower case to ease retrieval \n",
    "def transform_df(df):\n",
    "  df['Author'] = df['Author'].apply(process_string)\n",
    "  df['Publications'] = df['Publications'].apply(process_string)"
   ]
  },
  {
   "cell_type": "code",
   "execution_count": 19,
   "metadata": {},
   "outputs": [
    {
     "name": "stdout",
     "output_type": "stream",
     "text": [
      "Wall time: 3.12 s\n"
     ]
    }
   ],
   "source": [
    "#time spent to run this function on the processed book\n",
    "%time transform_df(book_processed)"
   ]
  },
  {
   "cell_type": "code",
   "execution_count": 20,
   "metadata": {},
   "outputs": [
    {
     "data": {
      "text/html": [
       "<div>\n",
       "<style scoped>\n",
       "    .dataframe tbody tr th:only-of-type {\n",
       "        vertical-align: middle;\n",
       "    }\n",
       "\n",
       "    .dataframe tbody tr th {\n",
       "        vertical-align: top;\n",
       "    }\n",
       "\n",
       "    .dataframe thead th {\n",
       "        text-align: right;\n",
       "    }\n",
       "</style>\n",
       "<table border=\"1\" class=\"dataframe\">\n",
       "  <thead>\n",
       "    <tr style=\"text-align: right;\">\n",
       "      <th></th>\n",
       "      <th>Publications</th>\n",
       "      <th>Author</th>\n",
       "      <th>Links</th>\n",
       "      <th>ID</th>\n",
       "    </tr>\n",
       "  </thead>\n",
       "  <tbody>\n",
       "    <tr>\n",
       "      <th>0</th>\n",
       "      <td>enhance co2 solubility aquifer use downhole co...</td>\n",
       "      <td>mohsen abbaszadeh</td>\n",
       "      <td>https://pureportal.coventry.ac.uk/en/publicati...</td>\n",
       "      <td>1</td>\n",
       "    </tr>\n",
       "    <tr>\n",
       "      <th>1</th>\n",
       "      <td>investigate impact temperature relative permea...</td>\n",
       "      <td>mohsen abbaszadeh</td>\n",
       "      <td>https://pureportal.coventry.ac.uk/en/publicati...</td>\n",
       "      <td>2</td>\n",
       "    </tr>\n",
       "    <tr>\n",
       "      <th>2</th>\n",
       "      <td>influence temperature wettability alteration c...</td>\n",
       "      <td>mohsen abbaszadeh</td>\n",
       "      <td>https://pureportal.coventry.ac.uk/en/publicati...</td>\n",
       "      <td>3</td>\n",
       "    </tr>\n",
       "    <tr>\n",
       "      <th>3</th>\n",
       "      <td>accelerate co2 solubility brine low temperatur...</td>\n",
       "      <td>mohsen abbaszadeh</td>\n",
       "      <td>https://pureportal.coventry.ac.uk/en/publicati...</td>\n",
       "      <td>4</td>\n",
       "    </tr>\n",
       "    <tr>\n",
       "      <th>4</th>\n",
       "      <td>investigate impact relative permeability curve...</td>\n",
       "      <td>mohsen abbaszadeh</td>\n",
       "      <td>https://pureportal.coventry.ac.uk/en/publicati...</td>\n",
       "      <td>5</td>\n",
       "    </tr>\n",
       "    <tr>\n",
       "      <th>5</th>\n",
       "      <td>crosslayer multipath multichannel mac protocol...</td>\n",
       "      <td>mohamed abdelshafy</td>\n",
       "      <td>https://pureportal.coventry.ac.uk/en/publicati...</td>\n",
       "      <td>6</td>\n",
       "    </tr>\n",
       "    <tr>\n",
       "      <th>6</th>\n",
       "      <td>performance evaluation receiver direct transmi...</td>\n",
       "      <td>mohamed abdelshafy</td>\n",
       "      <td>https://pureportal.coventry.ac.uk/en/publicati...</td>\n",
       "      <td>7</td>\n",
       "    </tr>\n",
       "    <tr>\n",
       "      <th>7</th>\n",
       "      <td>reliable multipath multichannel route migratio...</td>\n",
       "      <td>mohamed abdelshafy</td>\n",
       "      <td>https://pureportal.coventry.ac.uk/en/publicati...</td>\n",
       "      <td>8</td>\n",
       "    </tr>\n",
       "    <tr>\n",
       "      <th>8</th>\n",
       "      <td>resist blackhole attack manet</td>\n",
       "      <td>mohamed abdelshafy</td>\n",
       "      <td>https://pureportal.coventry.ac.uk/en/publicati...</td>\n",
       "      <td>9</td>\n",
       "    </tr>\n",
       "    <tr>\n",
       "      <th>9</th>\n",
       "      <td>dynamic source rout attack</td>\n",
       "      <td>mohamed abdelshafy</td>\n",
       "      <td>https://pureportal.coventry.ac.uk/en/publicati...</td>\n",
       "      <td>10</td>\n",
       "    </tr>\n",
       "  </tbody>\n",
       "</table>\n",
       "</div>"
      ],
      "text/plain": [
       "                                        Publications               Author  \\\n",
       "0  enhance co2 solubility aquifer use downhole co...   mohsen abbaszadeh    \n",
       "1  investigate impact temperature relative permea...   mohsen abbaszadeh    \n",
       "2  influence temperature wettability alteration c...   mohsen abbaszadeh    \n",
       "3  accelerate co2 solubility brine low temperatur...   mohsen abbaszadeh    \n",
       "4  investigate impact relative permeability curve...   mohsen abbaszadeh    \n",
       "5  crosslayer multipath multichannel mac protocol...  mohamed abdelshafy    \n",
       "6  performance evaluation receiver direct transmi...  mohamed abdelshafy    \n",
       "7  reliable multipath multichannel route migratio...  mohamed abdelshafy    \n",
       "8                     resist blackhole attack manet   mohamed abdelshafy    \n",
       "9                        dynamic source rout attack   mohamed abdelshafy    \n",
       "\n",
       "                                               Links  ID  \n",
       "0  https://pureportal.coventry.ac.uk/en/publicati...   1  \n",
       "1  https://pureportal.coventry.ac.uk/en/publicati...   2  \n",
       "2  https://pureportal.coventry.ac.uk/en/publicati...   3  \n",
       "3  https://pureportal.coventry.ac.uk/en/publicati...   4  \n",
       "4  https://pureportal.coventry.ac.uk/en/publicati...   5  \n",
       "5  https://pureportal.coventry.ac.uk/en/publicati...   6  \n",
       "6  https://pureportal.coventry.ac.uk/en/publicati...   7  \n",
       "7  https://pureportal.coventry.ac.uk/en/publicati...   8  \n",
       "8  https://pureportal.coventry.ac.uk/en/publicati...   9  \n",
       "9  https://pureportal.coventry.ac.uk/en/publicati...  10  "
      ]
     },
     "execution_count": 20,
     "metadata": {},
     "output_type": "execute_result"
    }
   ],
   "source": [
    "#return information of the first 10 documents in the Book1\n",
    "book_processed.head(10)"
   ]
  },
  {
   "cell_type": "markdown",
   "metadata": {},
   "source": [
    "BUILDING INVERTED INDEX FOR Book1 (Retrieved Information)"
   ]
  },
  {
   "cell_type": "code",
   "execution_count": 21,
   "metadata": {},
   "outputs": [],
   "source": [
    "#combining all columns together and delete each of the columns, except ID\n",
    "book_processed['text'] = book_processed[\"Publications\"] + \" \" + book_processed[\"Author\"]\n",
    "drop_cols = [\"Author\",\"Publications\", \"Links\"]\n",
    "book_processed= book_processed.drop(drop_cols, axis=1)"
   ]
  },
  {
   "cell_type": "code",
   "execution_count": 22,
   "metadata": {},
   "outputs": [
    {
     "data": {
      "text/plain": [
       "ID       int64\n",
       "text    object\n",
       "dtype: object"
      ]
     },
     "execution_count": 22,
     "metadata": {},
     "output_type": "execute_result"
    }
   ],
   "source": [
    "book_processed.dtypes"
   ]
  },
  {
   "cell_type": "code",
   "execution_count": 23,
   "metadata": {},
   "outputs": [],
   "source": [
    "#adding to the tranform processed dataframe function for better retrieval of information\n",
    "\n",
    "def transform_df(df):\n",
    "  df = df\n",
    "  df['Author'] = df['Author'].apply(process_string)\n",
    "  df['Publications'] = df['Publications'].apply(process_string)\n",
    "  df['text'] = df['Author'] + \" \" + df['Publications']\n",
    "  drop_cols = ['Author', 'Publications', 'Links']\n",
    "  df = df.drop(drop_cols, axis=1)\n",
    "  return df"
   ]
  },
  {
   "cell_type": "code",
   "execution_count": 24,
   "metadata": {},
   "outputs": [
    {
     "name": "stdout",
     "output_type": "stream",
     "text": [
      "ID                                                      1\n",
      "text    enhance co2 solubility aquifer use downhole co...\n",
      "Name: 0, dtype: object\n"
     ]
    }
   ],
   "source": [
    "# To retrieve information from Book using (loc) know as Label Indexing\n",
    "#label indexing \n",
    "\n",
    "single_entry = book_processed.loc[0,:].copy() # retrieve the information from the first row and copy it to single_entry\n",
    "print(single_entry)\n",
    "index_test = {}"
   ]
  },
  {
   "cell_type": "code",
   "execution_count": 25,
   "metadata": {},
   "outputs": [],
   "source": [
    "#Spliting text in the text dictionary to create the posting list using the ID created in the book.  \n",
    "# Then place into a separate dictionaries.\n",
    "\n",
    "words = single_entry.text.split()\n",
    "ID = single_entry.ID"
   ]
  },
  {
   "cell_type": "code",
   "execution_count": 26,
   "metadata": {},
   "outputs": [
    {
     "name": "stdout",
     "output_type": "stream",
     "text": [
      "{'enhance': [1]}\n"
     ]
    }
   ],
   "source": [
    "#creating the inverted index with their respective posting list(ID)\n",
    "word = words[0]\n",
    "sample = {word: [ID]}\n",
    "print(sample)"
   ]
  },
  {
   "cell_type": "code",
   "execution_count": 27,
   "metadata": {},
   "outputs": [
    {
     "name": "stdout",
     "output_type": "stream",
     "text": [
      "{'enhance': [1], 'co2': [1], 'solubility': [1], 'aquifer': [1], 'use': [1], 'downhole': [1], 'cooler': [1], 'tool': [1], 'mohsen': [1], 'abbaszadeh': [1]}\n"
     ]
    }
   ],
   "source": [
    "# To loop and append entry ID to the postings \n",
    "for word in words:\n",
    "  if word in index_test.keys():\n",
    "    if ID not in index_test[word]:\n",
    "      index_test[word].append(ID)\n",
    "  else:\n",
    "    index_test[word] = [ID]\n",
    "    \n",
    "    \n",
    "\n",
    "#To add the posting list (ID), to each element, in each role.\n",
    "print(index_test)"
   ]
  },
  {
   "cell_type": "code",
   "execution_count": 28,
   "metadata": {},
   "outputs": [],
   "source": [
    "# configuring the posting list (ID) to each of the data in the dataframe(book)\n",
    "# configuring the posting list (ID) to each of the data in the dataframe(book)\n",
    "def index_it(single_entry, index):\n",
    "  words = single_entry.text.split()\n",
    "  ID = single_entry.ID\n",
    "  for word in words:\n",
    "    if word in index.keys():\n",
    "      if ID not in index[word]:\n",
    "        index[word].append(ID)\n",
    "    else:\n",
    "      index[word] = [ID]\n",
    "  return index"
   ]
  },
  {
   "cell_type": "code",
   "execution_count": 29,
   "metadata": {},
   "outputs": [
    {
     "name": "stdout",
     "output_type": "stream",
     "text": [
      "{'enhance': [1], 'co2': [1], 'solubility': [1], 'aquifer': [1], 'use': [1], 'downhole': [1], 'cooler': [1], 'tool': [1], 'mohsen': [1], 'abbaszadeh': [1]}\n"
     ]
    }
   ],
   "source": [
    "#calling the function created for all data in the dataframe(book)\n",
    "inverted_index = index_it(single_entry=single_entry, index= {})\n",
    "print(inverted_index)"
   ]
  },
  {
   "cell_type": "code",
   "execution_count": 30,
   "metadata": {},
   "outputs": [],
   "source": [
    "#preforming the function in the inverted_\n",
    "def index_all(df, index):\n",
    "  for i in range(len(df)):\n",
    "    single_entry = df.loc[i,:]\n",
    "    index = index_it(single_entry = single_entry, index = index)\n",
    "  return index"
   ]
  },
  {
   "cell_type": "code",
   "execution_count": 31,
   "metadata": {},
   "outputs": [
    {
     "data": {
      "text/plain": [
       "730"
      ]
     },
     "execution_count": 31,
     "metadata": {},
     "output_type": "execute_result"
    }
   ],
   "source": [
    "index = index_all(book_processed, index = {})\n",
    "len(index)"
   ]
  },
  {
   "cell_type": "code",
   "execution_count": 32,
   "metadata": {},
   "outputs": [],
   "source": [
    "# combining all the functions together to form an entry\n",
    "def build_index(df, index):\n",
    "    to_add = transform_df(df)\n",
    "    index = index_all(df = to_add, index = index)\n",
    "    return index"
   ]
  },
  {
   "cell_type": "code",
   "execution_count": 33,
   "metadata": {},
   "outputs": [],
   "source": [
    "idx = build_index(df = Book1, index = {})"
   ]
  },
  {
   "cell_type": "code",
   "execution_count": 34,
   "metadata": {},
   "outputs": [
    {
     "data": {
      "text/plain": [
       "730"
      ]
     },
     "execution_count": 34,
     "metadata": {},
     "output_type": "execute_result"
    }
   ],
   "source": [
    "\n",
    "len(idx)"
   ]
  },
  {
   "cell_type": "markdown",
   "metadata": {},
   "source": []
  },
  {
   "cell_type": "markdown",
   "metadata": {},
   "source": [
    "PERFORMING THE RANKING"
   ]
  },
  {
   "cell_type": "markdown",
   "metadata": {},
   "source": [
    "Index Ranking to relevant words for ease of Retrieval"
   ]
  },
  {
   "cell_type": "code",
   "execution_count": 35,
   "metadata": {},
   "outputs": [
    {
     "name": "stderr",
     "output_type": "stream",
     "text": [
      "c:\\users\\felixadeyanju\\appdata\\local\\programs\\python\\python38\\lib\\site-packages\\gensim\\similarities\\__init__.py:15: UserWarning: The gensim.similarities.levenshtein submodule is disabled, because the optional Levenshtein package <https://pypi.org/project/python-Levenshtein/> is unavailable. Install Levenhstein (e.g. `pip install python-Levenshtein`) to suppress this warning.\n",
      "  warnings.warn(msg)\n"
     ]
    }
   ],
   "source": [
    "#Loading the appropriate Libary \n",
    "import gensim\n",
    "import numpy as np"
   ]
  },
  {
   "cell_type": "code",
   "execution_count": 36,
   "metadata": {},
   "outputs": [],
   "source": [
    "#loading the pretrained model which contained the word2vec to be used for ranking\n",
    "word2vec = gensim.models.KeyedVectors.load_word2vec_format('C:/Users/FelixAdeyanju/Desktop/IR/GoogleNews-vectors-negative300.bin', binary=True)"
   ]
  },
  {
   "cell_type": "code",
   "execution_count": 37,
   "metadata": {},
   "outputs": [
    {
     "name": "stdout",
     "output_type": "stream",
     "text": [
      "['enhance', 'co2', 'solubility', 'aquifer', 'use', 'downhole', 'cooler', 'tool', 'mohsen', 'abbaszadeh']\n"
     ]
    }
   ],
   "source": [
    "#get the words from the dataframe and average of the vector\n",
    "print(words)"
   ]
  },
  {
   "cell_type": "code",
   "execution_count": 38,
   "metadata": {},
   "outputs": [],
   "source": [
    "def average_vectors(word2vec_model, doc):\n",
    "   \n",
    "    doc = [word for word in doc if word in word2vec_model.key_to_index] #remove out-of-vocabulary words\n",
    "    if len(doc) == 0:\n",
    "      return np.zeros(300)\n",
    "    else:\n",
    "      return np.mean(word2vec_model[doc], axis=0)"
   ]
  },
  {
   "cell_type": "code",
   "execution_count": 39,
   "metadata": {},
   "outputs": [
    {
     "name": "stdout",
     "output_type": "stream",
     "text": [
      "Wall time: 2.99 ms\n"
     ]
    }
   ],
   "source": [
    "%time test_vec = average_vectors(word2vec, words)"
   ]
  },
  {
   "cell_type": "code",
   "execution_count": 40,
   "metadata": {},
   "outputs": [],
   "source": [
    "def prepare_ranking(df):\n",
    "  corpus = df[['ID', 'text']].copy()\n",
    "  doc_vecs = {}\n",
    "  for i in range(len(corpus)):\n",
    "    row = corpus.loc[i,:]\n",
    "    text = row.text.split()\n",
    "    doc_vecs[row.ID]=average_vectors(word2vec, text)\n",
    "  doc_vecs = pd.DataFrame.from_dict(data=doc_vecs, orient=\"index\")\n",
    "  doc_vecs['ID'] = doc_vecs.index\n",
    "  return doc_vecs"
   ]
  },
  {
   "cell_type": "code",
   "execution_count": 41,
   "metadata": {},
   "outputs": [
    {
     "data": {
      "text/html": [
       "<div>\n",
       "<style scoped>\n",
       "    .dataframe tbody tr th:only-of-type {\n",
       "        vertical-align: middle;\n",
       "    }\n",
       "\n",
       "    .dataframe tbody tr th {\n",
       "        vertical-align: top;\n",
       "    }\n",
       "\n",
       "    .dataframe thead th {\n",
       "        text-align: right;\n",
       "    }\n",
       "</style>\n",
       "<table border=\"1\" class=\"dataframe\">\n",
       "  <thead>\n",
       "    <tr style=\"text-align: right;\">\n",
       "      <th></th>\n",
       "      <th>0</th>\n",
       "      <th>1</th>\n",
       "      <th>2</th>\n",
       "      <th>3</th>\n",
       "      <th>4</th>\n",
       "      <th>5</th>\n",
       "      <th>6</th>\n",
       "      <th>7</th>\n",
       "      <th>8</th>\n",
       "      <th>9</th>\n",
       "      <th>...</th>\n",
       "      <th>291</th>\n",
       "      <th>292</th>\n",
       "      <th>293</th>\n",
       "      <th>294</th>\n",
       "      <th>295</th>\n",
       "      <th>296</th>\n",
       "      <th>297</th>\n",
       "      <th>298</th>\n",
       "      <th>299</th>\n",
       "      <th>ID</th>\n",
       "    </tr>\n",
       "  </thead>\n",
       "  <tbody>\n",
       "    <tr>\n",
       "      <th>1</th>\n",
       "      <td>-0.042328</td>\n",
       "      <td>0.030609</td>\n",
       "      <td>-0.001076</td>\n",
       "      <td>-0.068466</td>\n",
       "      <td>-0.167755</td>\n",
       "      <td>0.144440</td>\n",
       "      <td>-0.023532</td>\n",
       "      <td>-0.083717</td>\n",
       "      <td>0.049454</td>\n",
       "      <td>0.131735</td>\n",
       "      <td>...</td>\n",
       "      <td>0.128265</td>\n",
       "      <td>-0.110733</td>\n",
       "      <td>0.133049</td>\n",
       "      <td>-0.105835</td>\n",
       "      <td>0.016251</td>\n",
       "      <td>-0.080515</td>\n",
       "      <td>-0.031891</td>\n",
       "      <td>-0.025040</td>\n",
       "      <td>-0.015503</td>\n",
       "      <td>1</td>\n",
       "    </tr>\n",
       "    <tr>\n",
       "      <th>2</th>\n",
       "      <td>-0.100977</td>\n",
       "      <td>0.040027</td>\n",
       "      <td>0.004196</td>\n",
       "      <td>-0.011914</td>\n",
       "      <td>-0.084094</td>\n",
       "      <td>0.041797</td>\n",
       "      <td>-0.002112</td>\n",
       "      <td>-0.179297</td>\n",
       "      <td>0.157617</td>\n",
       "      <td>0.149515</td>\n",
       "      <td>...</td>\n",
       "      <td>0.052332</td>\n",
       "      <td>-0.080170</td>\n",
       "      <td>0.139746</td>\n",
       "      <td>-0.047162</td>\n",
       "      <td>0.027631</td>\n",
       "      <td>-0.032196</td>\n",
       "      <td>0.040588</td>\n",
       "      <td>0.045282</td>\n",
       "      <td>-0.031119</td>\n",
       "      <td>2</td>\n",
       "    </tr>\n",
       "    <tr>\n",
       "      <th>3</th>\n",
       "      <td>-0.028890</td>\n",
       "      <td>0.041341</td>\n",
       "      <td>0.019589</td>\n",
       "      <td>-0.085612</td>\n",
       "      <td>-0.136068</td>\n",
       "      <td>0.085342</td>\n",
       "      <td>-0.051649</td>\n",
       "      <td>-0.145725</td>\n",
       "      <td>0.087079</td>\n",
       "      <td>0.106635</td>\n",
       "      <td>...</td>\n",
       "      <td>0.027500</td>\n",
       "      <td>-0.005927</td>\n",
       "      <td>0.083740</td>\n",
       "      <td>0.050178</td>\n",
       "      <td>0.009291</td>\n",
       "      <td>-0.049750</td>\n",
       "      <td>-0.029527</td>\n",
       "      <td>0.033129</td>\n",
       "      <td>0.019121</td>\n",
       "      <td>3</td>\n",
       "    </tr>\n",
       "    <tr>\n",
       "      <th>4</th>\n",
       "      <td>-0.008403</td>\n",
       "      <td>0.048299</td>\n",
       "      <td>0.018255</td>\n",
       "      <td>0.037364</td>\n",
       "      <td>-0.144552</td>\n",
       "      <td>0.110420</td>\n",
       "      <td>-0.029093</td>\n",
       "      <td>-0.158222</td>\n",
       "      <td>0.046274</td>\n",
       "      <td>0.095154</td>\n",
       "      <td>...</td>\n",
       "      <td>0.114909</td>\n",
       "      <td>-0.115144</td>\n",
       "      <td>0.162242</td>\n",
       "      <td>-0.048731</td>\n",
       "      <td>0.032461</td>\n",
       "      <td>-0.055182</td>\n",
       "      <td>0.061376</td>\n",
       "      <td>-0.006638</td>\n",
       "      <td>-0.005717</td>\n",
       "      <td>4</td>\n",
       "    </tr>\n",
       "    <tr>\n",
       "      <th>5</th>\n",
       "      <td>-0.036819</td>\n",
       "      <td>0.042725</td>\n",
       "      <td>0.002426</td>\n",
       "      <td>-0.057739</td>\n",
       "      <td>-0.086044</td>\n",
       "      <td>0.056458</td>\n",
       "      <td>-0.049622</td>\n",
       "      <td>-0.172363</td>\n",
       "      <td>0.100602</td>\n",
       "      <td>0.200424</td>\n",
       "      <td>...</td>\n",
       "      <td>0.057693</td>\n",
       "      <td>-0.059345</td>\n",
       "      <td>0.084351</td>\n",
       "      <td>-0.069847</td>\n",
       "      <td>0.057594</td>\n",
       "      <td>-0.030342</td>\n",
       "      <td>0.071487</td>\n",
       "      <td>-0.012489</td>\n",
       "      <td>-0.034241</td>\n",
       "      <td>5</td>\n",
       "    </tr>\n",
       "    <tr>\n",
       "      <th>...</th>\n",
       "      <td>...</td>\n",
       "      <td>...</td>\n",
       "      <td>...</td>\n",
       "      <td>...</td>\n",
       "      <td>...</td>\n",
       "      <td>...</td>\n",
       "      <td>...</td>\n",
       "      <td>...</td>\n",
       "      <td>...</td>\n",
       "      <td>...</td>\n",
       "      <td>...</td>\n",
       "      <td>...</td>\n",
       "      <td>...</td>\n",
       "      <td>...</td>\n",
       "      <td>...</td>\n",
       "      <td>...</td>\n",
       "      <td>...</td>\n",
       "      <td>...</td>\n",
       "      <td>...</td>\n",
       "      <td>...</td>\n",
       "      <td>...</td>\n",
       "    </tr>\n",
       "    <tr>\n",
       "      <th>105</th>\n",
       "      <td>0.004338</td>\n",
       "      <td>0.012797</td>\n",
       "      <td>-0.051287</td>\n",
       "      <td>0.013441</td>\n",
       "      <td>-0.134099</td>\n",
       "      <td>0.058852</td>\n",
       "      <td>0.010208</td>\n",
       "      <td>-0.141296</td>\n",
       "      <td>0.031756</td>\n",
       "      <td>-0.008057</td>\n",
       "      <td>...</td>\n",
       "      <td>0.054417</td>\n",
       "      <td>-0.043743</td>\n",
       "      <td>-0.054622</td>\n",
       "      <td>-0.054504</td>\n",
       "      <td>0.002215</td>\n",
       "      <td>-0.122628</td>\n",
       "      <td>0.019145</td>\n",
       "      <td>-0.008668</td>\n",
       "      <td>0.072307</td>\n",
       "      <td>105</td>\n",
       "    </tr>\n",
       "    <tr>\n",
       "      <th>106</th>\n",
       "      <td>0.036997</td>\n",
       "      <td>0.021149</td>\n",
       "      <td>0.054301</td>\n",
       "      <td>0.116516</td>\n",
       "      <td>-0.031759</td>\n",
       "      <td>0.007365</td>\n",
       "      <td>0.041769</td>\n",
       "      <td>-0.122925</td>\n",
       "      <td>-0.039103</td>\n",
       "      <td>0.038981</td>\n",
       "      <td>...</td>\n",
       "      <td>0.057210</td>\n",
       "      <td>-0.046529</td>\n",
       "      <td>-0.058716</td>\n",
       "      <td>-0.155436</td>\n",
       "      <td>-0.028392</td>\n",
       "      <td>0.072889</td>\n",
       "      <td>0.087280</td>\n",
       "      <td>-0.047770</td>\n",
       "      <td>0.094076</td>\n",
       "      <td>106</td>\n",
       "    </tr>\n",
       "    <tr>\n",
       "      <th>107</th>\n",
       "      <td>0.058672</td>\n",
       "      <td>0.086365</td>\n",
       "      <td>-0.038435</td>\n",
       "      <td>0.084734</td>\n",
       "      <td>0.058515</td>\n",
       "      <td>0.054199</td>\n",
       "      <td>0.076050</td>\n",
       "      <td>-0.171805</td>\n",
       "      <td>0.090036</td>\n",
       "      <td>0.040048</td>\n",
       "      <td>...</td>\n",
       "      <td>-0.076625</td>\n",
       "      <td>0.024414</td>\n",
       "      <td>-0.019601</td>\n",
       "      <td>0.002232</td>\n",
       "      <td>-0.058036</td>\n",
       "      <td>0.016427</td>\n",
       "      <td>-0.085920</td>\n",
       "      <td>0.006435</td>\n",
       "      <td>0.053964</td>\n",
       "      <td>107</td>\n",
       "    </tr>\n",
       "    <tr>\n",
       "      <th>108</th>\n",
       "      <td>0.074074</td>\n",
       "      <td>0.102702</td>\n",
       "      <td>-0.038498</td>\n",
       "      <td>0.087082</td>\n",
       "      <td>-0.050896</td>\n",
       "      <td>0.052574</td>\n",
       "      <td>0.032181</td>\n",
       "      <td>-0.128677</td>\n",
       "      <td>-0.004730</td>\n",
       "      <td>0.033905</td>\n",
       "      <td>...</td>\n",
       "      <td>0.114761</td>\n",
       "      <td>-0.046204</td>\n",
       "      <td>-0.020630</td>\n",
       "      <td>-0.073792</td>\n",
       "      <td>0.053223</td>\n",
       "      <td>-0.029714</td>\n",
       "      <td>-0.023163</td>\n",
       "      <td>-0.053497</td>\n",
       "      <td>0.123146</td>\n",
       "      <td>108</td>\n",
       "    </tr>\n",
       "    <tr>\n",
       "      <th>109</th>\n",
       "      <td>0.048224</td>\n",
       "      <td>0.109552</td>\n",
       "      <td>-0.014526</td>\n",
       "      <td>0.017908</td>\n",
       "      <td>-0.008722</td>\n",
       "      <td>0.065894</td>\n",
       "      <td>-0.052526</td>\n",
       "      <td>-0.119904</td>\n",
       "      <td>0.038458</td>\n",
       "      <td>-0.059485</td>\n",
       "      <td>...</td>\n",
       "      <td>0.022491</td>\n",
       "      <td>-0.053369</td>\n",
       "      <td>-0.102545</td>\n",
       "      <td>-0.039258</td>\n",
       "      <td>-0.002295</td>\n",
       "      <td>-0.046997</td>\n",
       "      <td>-0.053247</td>\n",
       "      <td>-0.014252</td>\n",
       "      <td>0.075046</td>\n",
       "      <td>109</td>\n",
       "    </tr>\n",
       "  </tbody>\n",
       "</table>\n",
       "<p>109 rows × 301 columns</p>\n",
       "</div>"
      ],
      "text/plain": [
       "            0         1         2         3         4         5         6  \\\n",
       "1   -0.042328  0.030609 -0.001076 -0.068466 -0.167755  0.144440 -0.023532   \n",
       "2   -0.100977  0.040027  0.004196 -0.011914 -0.084094  0.041797 -0.002112   \n",
       "3   -0.028890  0.041341  0.019589 -0.085612 -0.136068  0.085342 -0.051649   \n",
       "4   -0.008403  0.048299  0.018255  0.037364 -0.144552  0.110420 -0.029093   \n",
       "5   -0.036819  0.042725  0.002426 -0.057739 -0.086044  0.056458 -0.049622   \n",
       "..        ...       ...       ...       ...       ...       ...       ...   \n",
       "105  0.004338  0.012797 -0.051287  0.013441 -0.134099  0.058852  0.010208   \n",
       "106  0.036997  0.021149  0.054301  0.116516 -0.031759  0.007365  0.041769   \n",
       "107  0.058672  0.086365 -0.038435  0.084734  0.058515  0.054199  0.076050   \n",
       "108  0.074074  0.102702 -0.038498  0.087082 -0.050896  0.052574  0.032181   \n",
       "109  0.048224  0.109552 -0.014526  0.017908 -0.008722  0.065894 -0.052526   \n",
       "\n",
       "            7         8         9  ...       291       292       293  \\\n",
       "1   -0.083717  0.049454  0.131735  ...  0.128265 -0.110733  0.133049   \n",
       "2   -0.179297  0.157617  0.149515  ...  0.052332 -0.080170  0.139746   \n",
       "3   -0.145725  0.087079  0.106635  ...  0.027500 -0.005927  0.083740   \n",
       "4   -0.158222  0.046274  0.095154  ...  0.114909 -0.115144  0.162242   \n",
       "5   -0.172363  0.100602  0.200424  ...  0.057693 -0.059345  0.084351   \n",
       "..        ...       ...       ...  ...       ...       ...       ...   \n",
       "105 -0.141296  0.031756 -0.008057  ...  0.054417 -0.043743 -0.054622   \n",
       "106 -0.122925 -0.039103  0.038981  ...  0.057210 -0.046529 -0.058716   \n",
       "107 -0.171805  0.090036  0.040048  ... -0.076625  0.024414 -0.019601   \n",
       "108 -0.128677 -0.004730  0.033905  ...  0.114761 -0.046204 -0.020630   \n",
       "109 -0.119904  0.038458 -0.059485  ...  0.022491 -0.053369 -0.102545   \n",
       "\n",
       "          294       295       296       297       298       299   ID  \n",
       "1   -0.105835  0.016251 -0.080515 -0.031891 -0.025040 -0.015503    1  \n",
       "2   -0.047162  0.027631 -0.032196  0.040588  0.045282 -0.031119    2  \n",
       "3    0.050178  0.009291 -0.049750 -0.029527  0.033129  0.019121    3  \n",
       "4   -0.048731  0.032461 -0.055182  0.061376 -0.006638 -0.005717    4  \n",
       "5   -0.069847  0.057594 -0.030342  0.071487 -0.012489 -0.034241    5  \n",
       "..        ...       ...       ...       ...       ...       ...  ...  \n",
       "105 -0.054504  0.002215 -0.122628  0.019145 -0.008668  0.072307  105  \n",
       "106 -0.155436 -0.028392  0.072889  0.087280 -0.047770  0.094076  106  \n",
       "107  0.002232 -0.058036  0.016427 -0.085920  0.006435  0.053964  107  \n",
       "108 -0.073792  0.053223 -0.029714 -0.023163 -0.053497  0.123146  108  \n",
       "109 -0.039258 -0.002295 -0.046997 -0.053247 -0.014252  0.075046  109  \n",
       "\n",
       "[109 rows x 301 columns]"
      ]
     },
     "execution_count": 41,
     "metadata": {},
     "output_type": "execute_result"
    }
   ],
   "source": [
    "doc_vecs = prepare_ranking(df=Book1)\n",
    "doc_vecs"
   ]
  },
  {
   "cell_type": "markdown",
   "metadata": {},
   "source": []
  },
  {
   "cell_type": "markdown",
   "metadata": {},
   "source": [
    "Query Processor\n",
    "\n",
    "To be able to querie the "
   ]
  },
  {
   "cell_type": "code",
   "execution_count": 42,
   "metadata": {},
   "outputs": [],
   "source": [
    "sample= \"Mohamed Abdelshafy\""
   ]
  },
  {
   "cell_type": "code",
   "execution_count": 43,
   "metadata": {},
   "outputs": [
    {
     "name": "stdout",
     "output_type": "stream",
     "text": [
      "User query: Mohamed Abdelshafy.\n",
      "Normalized query: mohamed abdelshafy .\n"
     ]
    }
   ],
   "source": [
    "print(\"User query: {}.\" .format(sample))\n",
    "test_norm = process_string(sample)\n",
    "print(\"Normalized query: {}.\" .format(test_norm))"
   ]
  },
  {
   "cell_type": "code",
   "execution_count": 44,
   "metadata": {},
   "outputs": [],
   "source": [
    "#this is where the splitting of the sample take place\n",
    "test_split = test_norm.split()"
   ]
  },
  {
   "cell_type": "code",
   "execution_count": 45,
   "metadata": {},
   "outputs": [],
   "source": [
    "#converting the sample_split into function\n",
    "\n",
    "def process_query(query):\n",
    "  norm = process_string(query)\n",
    "  return norm.split()"
   ]
  },
  {
   "cell_type": "code",
   "execution_count": 46,
   "metadata": {},
   "outputs": [],
   "source": [
    "#Retrieving Information from Index, check if they are in the index vocabulary and associate with the posting list\n",
    "\n",
    "retrieved = []\n",
    "for word in test_split:\n",
    "    if word in index.keys():\n",
    "        retrieved.append(index[word])"
   ]
  },
  {
   "cell_type": "code",
   "execution_count": 47,
   "metadata": {},
   "outputs": [],
   "source": [
    "#looking for the intersection of all posting\n",
    "#looking for the intersection of all posting list\n",
    "def lists_intersection(lists):\n",
    "    intersect = list(set.intersection(*map(set, lists)))\n",
    "    intersect.sort()\n",
    "    return intersect"
   ]
  },
  {
   "cell_type": "code",
   "execution_count": 48,
   "metadata": {},
   "outputs": [
    {
     "name": "stdout",
     "output_type": "stream",
     "text": [
      "[6, 7, 8, 9, 10]\n"
     ]
    }
   ],
   "source": [
    "result = lists_intersection(retrieved)\n",
    "print(result)"
   ]
  },
  {
   "cell_type": "code",
   "execution_count": null,
   "metadata": {},
   "outputs": [],
   "source": []
  },
  {
   "cell_type": "markdown",
   "metadata": {},
   "source": [
    "To Write a function using conditional statement"
   ]
  },
  {
   "cell_type": "code",
   "execution_count": 49,
   "metadata": {},
   "outputs": [],
   "source": [
    "#To write a condiction using conditional statement\n",
    "\n",
    "def search_googleish(query, index=idx):\n",
    "  query_split = process_query(query)\n",
    "  retrieved = []\n",
    "  for word in query_split:\n",
    "    if word in index.keys():\n",
    "      retrieved.append(index[word])\n",
    "  if len(retrieved)>0:\n",
    "    result = lists_intersection(retrieved)\n",
    "  else:\n",
    "      result = ['No Information Found']\n",
    "  return result"
   ]
  },
  {
   "cell_type": "code",
   "execution_count": 50,
   "metadata": {},
   "outputs": [
    {
     "name": "stdout",
     "output_type": "stream",
     "text": [
      "[1, 4]\n"
     ]
    }
   ],
   "source": [
    "result_IDs = search_googleish(\"solubility brime\", index)\n",
    "print(result_IDs)"
   ]
  },
  {
   "cell_type": "code",
   "execution_count": 51,
   "metadata": {},
   "outputs": [
    {
     "data": {
      "text/html": [
       "<div>\n",
       "<style scoped>\n",
       "    .dataframe tbody tr th:only-of-type {\n",
       "        vertical-align: middle;\n",
       "    }\n",
       "\n",
       "    .dataframe tbody tr th {\n",
       "        vertical-align: top;\n",
       "    }\n",
       "\n",
       "    .dataframe thead th {\n",
       "        text-align: right;\n",
       "    }\n",
       "</style>\n",
       "<table border=\"1\" class=\"dataframe\">\n",
       "  <thead>\n",
       "    <tr style=\"text-align: right;\">\n",
       "      <th></th>\n",
       "      <th>Publications</th>\n",
       "      <th>Author</th>\n",
       "      <th>Links</th>\n",
       "      <th>ID</th>\n",
       "    </tr>\n",
       "  </thead>\n",
       "  <tbody>\n",
       "    <tr>\n",
       "      <th>0</th>\n",
       "      <td>enhance co2 solubility aquifer use downhole co...</td>\n",
       "      <td>mohsen abbaszadeh</td>\n",
       "      <td>https://pureportal.coventry.ac.uk/en/publicati...</td>\n",
       "      <td>1</td>\n",
       "    </tr>\n",
       "    <tr>\n",
       "      <th>1</th>\n",
       "      <td>investigate impact temperature relative permea...</td>\n",
       "      <td>mohsen abbaszadeh</td>\n",
       "      <td>https://pureportal.coventry.ac.uk/en/publicati...</td>\n",
       "      <td>2</td>\n",
       "    </tr>\n",
       "    <tr>\n",
       "      <th>2</th>\n",
       "      <td>influence temperature wettability alteration c...</td>\n",
       "      <td>mohsen abbaszadeh</td>\n",
       "      <td>https://pureportal.coventry.ac.uk/en/publicati...</td>\n",
       "      <td>3</td>\n",
       "    </tr>\n",
       "    <tr>\n",
       "      <th>3</th>\n",
       "      <td>accelerate co2 solubility brine low temperatur...</td>\n",
       "      <td>mohsen abbaszadeh</td>\n",
       "      <td>https://pureportal.coventry.ac.uk/en/publicati...</td>\n",
       "      <td>4</td>\n",
       "    </tr>\n",
       "    <tr>\n",
       "      <th>4</th>\n",
       "      <td>investigate impact relative permeability curve...</td>\n",
       "      <td>mohsen abbaszadeh</td>\n",
       "      <td>https://pureportal.coventry.ac.uk/en/publicati...</td>\n",
       "      <td>5</td>\n",
       "    </tr>\n",
       "    <tr>\n",
       "      <th>5</th>\n",
       "      <td>crosslayer multipath multichannel mac protocol...</td>\n",
       "      <td>mohamed abdelshafy</td>\n",
       "      <td>https://pureportal.coventry.ac.uk/en/publicati...</td>\n",
       "      <td>6</td>\n",
       "    </tr>\n",
       "    <tr>\n",
       "      <th>6</th>\n",
       "      <td>performance evaluation receiver direct transmi...</td>\n",
       "      <td>mohamed abdelshafy</td>\n",
       "      <td>https://pureportal.coventry.ac.uk/en/publicati...</td>\n",
       "      <td>7</td>\n",
       "    </tr>\n",
       "    <tr>\n",
       "      <th>7</th>\n",
       "      <td>reliable multipath multichannel route migratio...</td>\n",
       "      <td>mohamed abdelshafy</td>\n",
       "      <td>https://pureportal.coventry.ac.uk/en/publicati...</td>\n",
       "      <td>8</td>\n",
       "    </tr>\n",
       "    <tr>\n",
       "      <th>8</th>\n",
       "      <td>resist blackhole attack manet</td>\n",
       "      <td>mohamed abdelshafy</td>\n",
       "      <td>https://pureportal.coventry.ac.uk/en/publicati...</td>\n",
       "      <td>9</td>\n",
       "    </tr>\n",
       "    <tr>\n",
       "      <th>9</th>\n",
       "      <td>dynamic source rout attack</td>\n",
       "      <td>mohamed abdelshafy</td>\n",
       "      <td>https://pureportal.coventry.ac.uk/en/publicati...</td>\n",
       "      <td>10</td>\n",
       "    </tr>\n",
       "  </tbody>\n",
       "</table>\n",
       "</div>"
      ],
      "text/plain": [
       "                                        Publications               Author  \\\n",
       "0  enhance co2 solubility aquifer use downhole co...   mohsen abbaszadeh    \n",
       "1  investigate impact temperature relative permea...   mohsen abbaszadeh    \n",
       "2  influence temperature wettability alteration c...   mohsen abbaszadeh    \n",
       "3  accelerate co2 solubility brine low temperatur...   mohsen abbaszadeh    \n",
       "4  investigate impact relative permeability curve...   mohsen abbaszadeh    \n",
       "5  crosslayer multipath multichannel mac protocol...  mohamed abdelshafy    \n",
       "6  performance evaluation receiver direct transmi...  mohamed abdelshafy    \n",
       "7  reliable multipath multichannel route migratio...  mohamed abdelshafy    \n",
       "8                     resist blackhole attack manet   mohamed abdelshafy    \n",
       "9                        dynamic source rout attack   mohamed abdelshafy    \n",
       "\n",
       "                                               Links  ID  \n",
       "0  https://pureportal.coventry.ac.uk/en/publicati...   1  \n",
       "1  https://pureportal.coventry.ac.uk/en/publicati...   2  \n",
       "2  https://pureportal.coventry.ac.uk/en/publicati...   3  \n",
       "3  https://pureportal.coventry.ac.uk/en/publicati...   4  \n",
       "4  https://pureportal.coventry.ac.uk/en/publicati...   5  \n",
       "5  https://pureportal.coventry.ac.uk/en/publicati...   6  \n",
       "6  https://pureportal.coventry.ac.uk/en/publicati...   7  \n",
       "7  https://pureportal.coventry.ac.uk/en/publicati...   8  \n",
       "8  https://pureportal.coventry.ac.uk/en/publicati...   9  \n",
       "9  https://pureportal.coventry.ac.uk/en/publicati...  10  "
      ]
     },
     "execution_count": 51,
     "metadata": {},
     "output_type": "execute_result"
    }
   ],
   "source": [
    "# To retrieve information from the database. \n",
    "#This is done by connecting the retrieved IDs with some useful information stored in the database \n",
    "#that we first use to refine the results and then to print nice result to user\n",
    "meta = Book1.drop(['text'], axis=1).copy()\n",
    "meta.head(10)"
   ]
  },
  {
   "cell_type": "code",
   "execution_count": 52,
   "metadata": {},
   "outputs": [],
   "source": [
    "# To get the rows of retrieved IDs from the database\n",
    "def connect_id_df(retrieved_id, df):\n",
    "    return df[df.ID.isin(retrieved_id)].reset_index(drop=True)"
   ]
  },
  {
   "cell_type": "code",
   "execution_count": 53,
   "metadata": {},
   "outputs": [
    {
     "data": {
      "text/html": [
       "<div>\n",
       "<style scoped>\n",
       "    .dataframe tbody tr th:only-of-type {\n",
       "        vertical-align: middle;\n",
       "    }\n",
       "\n",
       "    .dataframe tbody tr th {\n",
       "        vertical-align: top;\n",
       "    }\n",
       "\n",
       "    .dataframe thead th {\n",
       "        text-align: right;\n",
       "    }\n",
       "</style>\n",
       "<table border=\"1\" class=\"dataframe\">\n",
       "  <thead>\n",
       "    <tr style=\"text-align: right;\">\n",
       "      <th></th>\n",
       "      <th>Publications</th>\n",
       "      <th>Author</th>\n",
       "      <th>Links</th>\n",
       "      <th>ID</th>\n",
       "    </tr>\n",
       "  </thead>\n",
       "  <tbody>\n",
       "    <tr>\n",
       "      <th>0</th>\n",
       "      <td>enhance co2 solubility aquifer use downhole co...</td>\n",
       "      <td>mohsen abbaszadeh</td>\n",
       "      <td>https://pureportal.coventry.ac.uk/en/publicati...</td>\n",
       "      <td>1</td>\n",
       "    </tr>\n",
       "    <tr>\n",
       "      <th>1</th>\n",
       "      <td>accelerate co2 solubility brine low temperatur...</td>\n",
       "      <td>mohsen abbaszadeh</td>\n",
       "      <td>https://pureportal.coventry.ac.uk/en/publicati...</td>\n",
       "      <td>4</td>\n",
       "    </tr>\n",
       "  </tbody>\n",
       "</table>\n",
       "</div>"
      ],
      "text/plain": [
       "                                        Publications              Author  \\\n",
       "0  enhance co2 solubility aquifer use downhole co...  mohsen abbaszadeh    \n",
       "1  accelerate co2 solubility brine low temperatur...  mohsen abbaszadeh    \n",
       "\n",
       "                                               Links  ID  \n",
       "0  https://pureportal.coventry.ac.uk/en/publicati...   1  \n",
       "1  https://pureportal.coventry.ac.uk/en/publicati...   4  "
      ]
     },
     "execution_count": 53,
     "metadata": {},
     "output_type": "execute_result"
    }
   ],
   "source": [
    "# To return the rows of the retrieved query from the above\n",
    "result_meta = connect_id_df(result_IDs, meta)\n",
    "result_meta.head(10)"
   ]
  },
  {
   "cell_type": "markdown",
   "metadata": {},
   "source": [
    "To Rank the the ouput of Retrieved query.\n",
    "We need to compute the vector for the query using the cosine similarity \n",
    "This will help to compare query to retrieved document relevance"
   ]
  },
  {
   "cell_type": "code",
   "execution_count": 54,
   "metadata": {},
   "outputs": [],
   "source": [
    "#compute vector for query\n",
    "query_vec = average_vectors(word2vec, test_split)"
   ]
  },
  {
   "cell_type": "code",
   "execution_count": 55,
   "metadata": {},
   "outputs": [],
   "source": [
    "# To Retrieve vectors of retrieved documents\n",
    "result_vecs = connect_id_df(result_IDs, doc_vecs)"
   ]
  },
  {
   "cell_type": "code",
   "execution_count": 56,
   "metadata": {},
   "outputs": [],
   "source": [
    "#To compute cosine simliarity between retrieved documents and queries\n",
    "def cos_similarity(a, b):\n",
    "  dot = np.dot(a, b)\n",
    "  norma = np.linalg.norm(a)\n",
    "  normb = np.linalg.norm(b)\n",
    "  cos = dot / (norma * normb)\n",
    "  return(cos)"
   ]
  },
  {
   "cell_type": "code",
   "execution_count": 57,
   "metadata": {},
   "outputs": [],
   "source": [
    "cos_sim = []\n",
    "for i in range(len(result_vecs)):\n",
    "  doc_vec = result_vecs.loc[i,:].drop(['ID'])\n",
    "  cos_sim.append(cos_similarity(doc_vec, query_vec))\n",
    "result_meta['rank'] = cos_sim"
   ]
  },
  {
   "cell_type": "code",
   "execution_count": 58,
   "metadata": {},
   "outputs": [
    {
     "data": {
      "text/html": [
       "<div>\n",
       "<style scoped>\n",
       "    .dataframe tbody tr th:only-of-type {\n",
       "        vertical-align: middle;\n",
       "    }\n",
       "\n",
       "    .dataframe tbody tr th {\n",
       "        vertical-align: top;\n",
       "    }\n",
       "\n",
       "    .dataframe thead th {\n",
       "        text-align: right;\n",
       "    }\n",
       "</style>\n",
       "<table border=\"1\" class=\"dataframe\">\n",
       "  <thead>\n",
       "    <tr style=\"text-align: right;\">\n",
       "      <th></th>\n",
       "      <th>Publications</th>\n",
       "      <th>Author</th>\n",
       "      <th>Links</th>\n",
       "      <th>ID</th>\n",
       "      <th>rank</th>\n",
       "    </tr>\n",
       "  </thead>\n",
       "  <tbody>\n",
       "    <tr>\n",
       "      <th>0</th>\n",
       "      <td>enhance co2 solubility aquifer use downhole co...</td>\n",
       "      <td>mohsen abbaszadeh</td>\n",
       "      <td>https://pureportal.coventry.ac.uk/en/publicati...</td>\n",
       "      <td>1</td>\n",
       "      <td>0.044785</td>\n",
       "    </tr>\n",
       "    <tr>\n",
       "      <th>1</th>\n",
       "      <td>accelerate co2 solubility brine low temperatur...</td>\n",
       "      <td>mohsen abbaszadeh</td>\n",
       "      <td>https://pureportal.coventry.ac.uk/en/publicati...</td>\n",
       "      <td>4</td>\n",
       "      <td>0.045522</td>\n",
       "    </tr>\n",
       "  </tbody>\n",
       "</table>\n",
       "</div>"
      ],
      "text/plain": [
       "                                        Publications              Author  \\\n",
       "0  enhance co2 solubility aquifer use downhole co...  mohsen abbaszadeh    \n",
       "1  accelerate co2 solubility brine low temperatur...  mohsen abbaszadeh    \n",
       "\n",
       "                                               Links  ID      rank  \n",
       "0  https://pureportal.coventry.ac.uk/en/publicati...   1  0.044785  \n",
       "1  https://pureportal.coventry.ac.uk/en/publicati...   4  0.045522  "
      ]
     },
     "execution_count": 58,
     "metadata": {},
     "output_type": "execute_result"
    }
   ],
   "source": [
    "#To sort the retrieved documents by cosine similarity based on their relevance\n",
    "result_meta.sort_values('rank', axis=0)"
   ]
  },
  {
   "cell_type": "code",
   "execution_count": 59,
   "metadata": {},
   "outputs": [],
   "source": [
    "#To combine query processor, the index comparism and their relevance into a function. \n",
    "#To return value\n",
    "def rank_results(query, results):\n",
    "  query_norm = process_query(query)\n",
    "  query_vec = average_vectors(word2vec, query_norm)\n",
    "  result_vecs = connect_id_df(results.ID, doc_vecs)\n",
    "  cos_sim = []\n",
    "  for i in range(len(result_vecs)):\n",
    "    doc_vec = result_vecs.loc[i,:].drop(['ID'])\n",
    "    cos_sim.append(cos_similarity(doc_vec, query_vec))\n",
    "  results['rank'] = cos_sim\n",
    "  results = results.sort_values('rank', axis=0)\n",
    "  return results"
   ]
  },
  {
   "cell_type": "code",
   "execution_count": 60,
   "metadata": {},
   "outputs": [],
   "source": [
    "outcome = rank_results(\"co2 solubility\", result_meta)"
   ]
  },
  {
   "cell_type": "code",
   "execution_count": 61,
   "metadata": {},
   "outputs": [],
   "source": [
    "#printing results for user\n",
    "\n",
    "def print_results(result_df):\n",
    "  for i in range(len(result_df)):\n",
    "    res = result_df.loc[i, :]\n",
    "    print(res.paper)\n",
    "    print(res.author)\n",
    "    if i == len(result_df):\n",
    "        print(res.pagelink)\n",
    "    else:\n",
    "        print(\"{}\\n\" .format(res.pagelink))"
   ]
  },
  {
   "cell_type": "code",
   "execution_count": 62,
   "metadata": {},
   "outputs": [],
   "source": [
    "#printing results for user\n",
    "\n",
    "def print_results(result_df):\n",
    "  for i in range(len(result_df)):\n",
    "    res = result_df.loc[i, :]\n",
    "    print(res.Publications)\n",
    "    print(res.Author)\n",
    "    if i == len(result_df):\n",
    "        print(res.Link)\n",
    "    else:\n",
    "        print(\"{}\\n\" .format(res.Links))"
   ]
  },
  {
   "cell_type": "code",
   "execution_count": 63,
   "metadata": {},
   "outputs": [
    {
     "name": "stdout",
     "output_type": "stream",
     "text": [
      "enhance co2 solubility aquifer use downhole cooler tool \n",
      "mohsen abbaszadeh \n",
      "https://pureportal.coventry.ac.uk/en/publications/enhancing-co2-solubility-in-the-aquifer-with-the-use-of-a-downhol\n",
      "\n",
      "accelerate co2 solubility brine low temperature injection scenario use downhole cool tool \n",
      "mohsen abbaszadeh \n",
      "https://pureportal.coventry.ac.uk/en/publications/accelerating-co2-solubility-in-brine-with-low-temperature-injecti\n",
      "\n"
     ]
    }
   ],
   "source": [
    "#print the query\n",
    "print_results(outcome)"
   ]
  },
  {
   "cell_type": "code",
   "execution_count": 64,
   "metadata": {},
   "outputs": [],
   "source": [
    "# putting all results together\n",
    "def search(query, dat=None):\n",
    "  result = search_googleish(query)\n",
    "  result = connect_id_df(result, meta)\n",
    "  result = rank_results(query, result)\n",
    "  print_results(result)"
   ]
  },
  {
   "cell_type": "code",
   "execution_count": 97,
   "metadata": {},
   "outputs": [
    {
     "name": "stdout",
     "output_type": "stream",
     "text": [
      "Performance evaluation:Performance evaluation\n",
      "performance evaluation receiver direct transmission protocol single transceiver manet \n",
      "mohamed abdelshafy \n",
      "https://pureportal.coventry.ac.uk/en/publications/performance-evaluation-of-receiver-directed-transmission-protocol\n",
      "\n",
      "evaluation merger premium firm performance europe \n",
      "daniel aghanya \n",
      "https://pureportal.coventry.ac.uk/en/publications/evaluation-of-merger-premium-and-firm-performance-in-europe\n",
      "\n"
     ]
    }
   ],
   "source": [
    "#To craete a box for user to input queries into the search engines\n",
    "query = input(\"Performance evaluation:\")\n",
    "search(query)"
   ]
  },
  {
   "cell_type": "markdown",
   "metadata": {},
   "source": []
  },
  {
   "cell_type": "markdown",
   "metadata": {},
   "source": [
    "Topic Classification Using BBC News article"
   ]
  },
  {
   "cell_type": "code",
   "execution_count": 68,
   "metadata": {},
   "outputs": [],
   "source": [
    "import numpy as np # linear algebra\n",
    "import pandas as pd # data processing, CSV file I/O (e.g. pd.read_csv)\n",
    "import matplotlib.pyplot as plt # plotting graphs\n",
    "import sklearn\n",
    "%matplotlib inline\n",
    "# Input data files are available in the \"../input/\" directory.\n",
    "# For example, running this (by clicking run or pressing Shift+Enter) will list the files in the input directory\n",
    "\n",
    "import os"
   ]
  },
  {
   "cell_type": "code",
   "execution_count": 69,
   "metadata": {},
   "outputs": [],
   "source": [
    "#Loading of Dataset\n",
    "df = pd.read_csv(\"C:\\\\Users\\\\FelixAdeyanju\\\\desktop\\\\bbc_Dataset\\\\BBC_Dataset.csv\")"
   ]
  },
  {
   "cell_type": "code",
   "execution_count": 70,
   "metadata": {},
   "outputs": [
    {
     "data": {
      "text/html": [
       "<div>\n",
       "<style scoped>\n",
       "    .dataframe tbody tr th:only-of-type {\n",
       "        vertical-align: middle;\n",
       "    }\n",
       "\n",
       "    .dataframe tbody tr th {\n",
       "        vertical-align: top;\n",
       "    }\n",
       "\n",
       "    .dataframe thead th {\n",
       "        text-align: right;\n",
       "    }\n",
       "</style>\n",
       "<table border=\"1\" class=\"dataframe\">\n",
       "  <thead>\n",
       "    <tr style=\"text-align: right;\">\n",
       "      <th></th>\n",
       "      <th>ArticleId</th>\n",
       "      <th>Text</th>\n",
       "      <th>Category</th>\n",
       "    </tr>\n",
       "  </thead>\n",
       "  <tbody>\n",
       "    <tr>\n",
       "      <th>0</th>\n",
       "      <td>1833</td>\n",
       "      <td>worldcom ex-boss launches defence lawyers defe...</td>\n",
       "      <td>business</td>\n",
       "    </tr>\n",
       "    <tr>\n",
       "      <th>1</th>\n",
       "      <td>154</td>\n",
       "      <td>german business confidence slides german busin...</td>\n",
       "      <td>business</td>\n",
       "    </tr>\n",
       "    <tr>\n",
       "      <th>2</th>\n",
       "      <td>1101</td>\n",
       "      <td>bbc poll indicates economic gloom citizens in ...</td>\n",
       "      <td>business</td>\n",
       "    </tr>\n",
       "    <tr>\n",
       "      <th>3</th>\n",
       "      <td>1976</td>\n",
       "      <td>lifestyle  governs mobile choice  faster  bett...</td>\n",
       "      <td>tech</td>\n",
       "    </tr>\n",
       "    <tr>\n",
       "      <th>4</th>\n",
       "      <td>917</td>\n",
       "      <td>enron bosses in $168m payout eighteen former e...</td>\n",
       "      <td>business</td>\n",
       "    </tr>\n",
       "  </tbody>\n",
       "</table>\n",
       "</div>"
      ],
      "text/plain": [
       "   ArticleId                                               Text  Category\n",
       "0       1833  worldcom ex-boss launches defence lawyers defe...  business\n",
       "1        154  german business confidence slides german busin...  business\n",
       "2       1101  bbc poll indicates economic gloom citizens in ...  business\n",
       "3       1976  lifestyle  governs mobile choice  faster  bett...      tech\n",
       "4        917  enron bosses in $168m payout eighteen former e...  business"
      ]
     },
     "execution_count": 70,
     "metadata": {},
     "output_type": "execute_result"
    }
   ],
   "source": [
    "## To List first 5 entries in dataframe \n",
    "# and review the various colums in the dataframe\n",
    "df.head()\n"
   ]
  },
  {
   "cell_type": "code",
   "execution_count": 71,
   "metadata": {},
   "outputs": [
    {
     "data": {
      "text/plain": [
       "0    0\n",
       "1    0\n",
       "2    0\n",
       "3    1\n",
       "4    0\n",
       "Name: category_id, dtype: int64"
      ]
     },
     "execution_count": 71,
     "metadata": {},
     "output_type": "execute_result"
    }
   ],
   "source": [
    "# To Associate Category names with numerical index \n",
    "df['category_id'] = df['Category'].factorize()[0]\n",
    "\n",
    "#To check first 5 entries of category_id for accuracy\n",
    "df['category_id'][0:5]"
   ]
  },
  {
   "cell_type": "code",
   "execution_count": 72,
   "metadata": {},
   "outputs": [
    {
     "data": {
      "text/html": [
       "<div>\n",
       "<style scoped>\n",
       "    .dataframe tbody tr th:only-of-type {\n",
       "        vertical-align: middle;\n",
       "    }\n",
       "\n",
       "    .dataframe tbody tr th {\n",
       "        vertical-align: top;\n",
       "    }\n",
       "\n",
       "    .dataframe thead th {\n",
       "        text-align: right;\n",
       "    }\n",
       "</style>\n",
       "<table border=\"1\" class=\"dataframe\">\n",
       "  <thead>\n",
       "    <tr style=\"text-align: right;\">\n",
       "      <th></th>\n",
       "      <th>Category</th>\n",
       "      <th>category_id</th>\n",
       "    </tr>\n",
       "  </thead>\n",
       "  <tbody>\n",
       "    <tr>\n",
       "      <th>0</th>\n",
       "      <td>business</td>\n",
       "      <td>0</td>\n",
       "    </tr>\n",
       "    <tr>\n",
       "      <th>3</th>\n",
       "      <td>tech</td>\n",
       "      <td>1</td>\n",
       "    </tr>\n",
       "    <tr>\n",
       "      <th>5</th>\n",
       "      <td>politics</td>\n",
       "      <td>2</td>\n",
       "    </tr>\n",
       "    <tr>\n",
       "      <th>6</th>\n",
       "      <td>sport</td>\n",
       "      <td>3</td>\n",
       "    </tr>\n",
       "    <tr>\n",
       "      <th>7</th>\n",
       "      <td>entertainment</td>\n",
       "      <td>4</td>\n",
       "    </tr>\n",
       "  </tbody>\n",
       "</table>\n",
       "</div>"
      ],
      "text/plain": [
       "        Category  category_id\n",
       "0       business            0\n",
       "3           tech            1\n",
       "5       politics            2\n",
       "6          sport            3\n",
       "7  entertainment            4"
      ]
     },
     "execution_count": 72,
     "metadata": {},
     "output_type": "execute_result"
    }
   ],
   "source": [
    "# To create a new dataframe \"category\", with unique Categories\n",
    "# Sorting this list in order of category_id values\n",
    "category_id_df = df[['Category', 'category_id']].drop_duplicates().sort_values('category_id')\n",
    "\n",
    "category_id_df"
   ]
  },
  {
   "cell_type": "code",
   "execution_count": 73,
   "metadata": {},
   "outputs": [],
   "source": [
    "# To create a dictionary that can easily convert category names into category_ids and vice-versa\n",
    "category_to_id = dict(category_id_df.values)\n",
    "id_to_category = dict(category_id_df[['category_id', 'Category']].values)"
   ]
  },
  {
   "cell_type": "code",
   "execution_count": 74,
   "metadata": {},
   "outputs": [
    {
     "data": {
      "text/plain": [
       "{0: 'business', 1: 'tech', 2: 'politics', 3: 'sport', 4: 'entertainment'}"
      ]
     },
     "execution_count": 74,
     "metadata": {},
     "output_type": "execute_result"
    }
   ],
   "source": [
    "#to bring the new data\n",
    "id_to_category"
   ]
  },
  {
   "cell_type": "code",
   "execution_count": 75,
   "metadata": {},
   "outputs": [
    {
     "data": {
      "text/html": [
       "<div>\n",
       "<style scoped>\n",
       "    .dataframe tbody tr th:only-of-type {\n",
       "        vertical-align: middle;\n",
       "    }\n",
       "\n",
       "    .dataframe tbody tr th {\n",
       "        vertical-align: top;\n",
       "    }\n",
       "\n",
       "    .dataframe thead th {\n",
       "        text-align: right;\n",
       "    }\n",
       "</style>\n",
       "<table border=\"1\" class=\"dataframe\">\n",
       "  <thead>\n",
       "    <tr style=\"text-align: right;\">\n",
       "      <th></th>\n",
       "      <th>ArticleId</th>\n",
       "      <th>Text</th>\n",
       "      <th>Category</th>\n",
       "      <th>category_id</th>\n",
       "    </tr>\n",
       "  </thead>\n",
       "  <tbody>\n",
       "    <tr>\n",
       "      <th>9</th>\n",
       "      <td>1866</td>\n",
       "      <td>fockers fuel festive film chart comedy meet th...</td>\n",
       "      <td>entertainment</td>\n",
       "      <td>4</td>\n",
       "    </tr>\n",
       "    <tr>\n",
       "      <th>354</th>\n",
       "      <td>1349</td>\n",
       "      <td>tory candidate quits over remark a conservativ...</td>\n",
       "      <td>politics</td>\n",
       "      <td>2</td>\n",
       "    </tr>\n",
       "    <tr>\n",
       "      <th>1227</th>\n",
       "      <td>1572</td>\n",
       "      <td>bath faced with tindall ultimatum mike tindall...</td>\n",
       "      <td>sport</td>\n",
       "      <td>3</td>\n",
       "    </tr>\n",
       "    <tr>\n",
       "      <th>907</th>\n",
       "      <td>1155</td>\n",
       "      <td>chancellor rallies labour voters gordon brown ...</td>\n",
       "      <td>politics</td>\n",
       "      <td>2</td>\n",
       "    </tr>\n",
       "    <tr>\n",
       "      <th>575</th>\n",
       "      <td>307</td>\n",
       "      <td>young debut cut short by ginepri fifteen-year-...</td>\n",
       "      <td>sport</td>\n",
       "      <td>3</td>\n",
       "    </tr>\n",
       "  </tbody>\n",
       "</table>\n",
       "</div>"
      ],
      "text/plain": [
       "      ArticleId                                               Text  \\\n",
       "9          1866  fockers fuel festive film chart comedy meet th...   \n",
       "354        1349  tory candidate quits over remark a conservativ...   \n",
       "1227       1572  bath faced with tindall ultimatum mike tindall...   \n",
       "907        1155  chancellor rallies labour voters gordon brown ...   \n",
       "575         307  young debut cut short by ginepri fifteen-year-...   \n",
       "\n",
       "           Category  category_id  \n",
       "9     entertainment            4  \n",
       "354        politics            2  \n",
       "1227          sport            3  \n",
       "907        politics            2  \n",
       "575           sport            3  "
      ]
     },
     "execution_count": 75,
     "metadata": {},
     "output_type": "execute_result"
    }
   ],
   "source": [
    "# Pick 5 random samples from the dataframe\n",
    "df.sample(5, random_state=0)"
   ]
  },
  {
   "cell_type": "code",
   "execution_count": 76,
   "metadata": {},
   "outputs": [
    {
     "data": {
      "text/plain": [
       "Category\n",
       "business         336\n",
       "entertainment    273\n",
       "politics         274\n",
       "sport            346\n",
       "tech             261\n",
       "Name: category_id, dtype: int64"
      ]
     },
     "execution_count": 76,
     "metadata": {},
     "output_type": "execute_result"
    }
   ],
   "source": [
    "# Group the dataframe by categories \n",
    "#Count items ( number of news articles) in each category\n",
    "df.groupby('Category').category_id.count()"
   ]
  },
  {
   "cell_type": "code",
   "execution_count": 77,
   "metadata": {},
   "outputs": [
    {
     "data": {
      "text/plain": [
       "<AxesSubplot:xlabel='Category'>"
      ]
     },
     "execution_count": 77,
     "metadata": {},
     "output_type": "execute_result"
    },
    {
     "data": {
      "image/png": "[encoded data removed]",
      "text/plain": [
       "<Figure size 432x288 with 1 Axes>"
      ]
     },
     "metadata": {
      "needs_background": "light"
     },
     "output_type": "display_data"
    }
   ],
   "source": [
    "#To check the distribution of bbc news-articles by category\n",
    "\n",
    "df.groupby('Category').category_id.count().plot.bar(ylim=0)"
   ]
  },
  {
   "cell_type": "markdown",
   "metadata": {},
   "source": [
    "onvert words in the news articles into numerical features using tfdif\n",
    "\n",
    "We need to remaps the words in the 1490 articles in the text column of data frame into features with an importance assigned based on each words frequency in the document and across documents"
   ]
  },
  {
   "cell_type": "code",
   "execution_count": 78,
   "metadata": {},
   "outputs": [],
   "source": [
    "# Remaps the words in the 1490 articles and convert df tosuperset of words based frequency \n",
    "\n",
    "from sklearn.feature_extraction.text import TfidfVectorizer #To importT\n",
    "\n",
    "tfidf = TfidfVectorizer(sublinear_tf=True, min_df=5, norm='l2', encoding='latin-1', ngram_range=(1, 2), stop_words='english')\n",
    "\n",
    "features = tfidf.fit_transform(df.Text).toarray() \n",
    "\n",
    "labels = df.category_id  # represents the category of each of the 1490 articles"
   ]
  },
  {
   "cell_type": "code",
   "execution_count": 79,
   "metadata": {},
   "outputs": [
    {
     "data": {
      "text/plain": [
       "(1490, 9927)"
      ]
     },
     "execution_count": 79,
     "metadata": {},
     "output_type": "execute_result"
    }
   ],
   "source": [
    "#Get a feel of the features identified by tfidf\n",
    "features.shape "
   ]
  },
  {
   "cell_type": "code",
   "execution_count": 80,
   "metadata": {},
   "outputs": [
    {
     "data": {
      "text/plain": [
       "dict_items([('business', 0), ('tech', 1), ('politics', 2), ('sport', 3), ('entertainment', 4)])"
      ]
     },
     "execution_count": 80,
     "metadata": {},
     "output_type": "execute_result"
    }
   ],
   "source": [
    "#Checking the dictionary created \n",
    "category_to_id.items()"
   ]
  },
  {
   "cell_type": "code",
   "execution_count": 81,
   "metadata": {},
   "outputs": [
    {
     "data": {
      "text/plain": [
       "[('business', 0),\n",
       " ('entertainment', 4),\n",
       " ('politics', 2),\n",
       " ('sport', 3),\n",
       " ('tech', 1)]"
      ]
     },
     "execution_count": 81,
     "metadata": {},
     "output_type": "execute_result"
    }
   ],
   "source": [
    "# To Converts the dictionary items into a sorted list. \n",
    "sorted(category_to_id.items())"
   ]
  },
  {
   "cell_type": "markdown",
   "metadata": {},
   "source": [
    "To Use chi-square analysis to find corelation between features and labels of news category\n",
    "\n",
    "Do chi2 analyses of all items in this category and Sorts the indices of features_chi2[0] - the chi-squared stats of each feature\n",
    "\n",
    "Converts indices to feature names ( in increasing order of chi-squared stat values)\n",
    "List of single word features ( in increasing order of chi-squared stat values)\n",
    "List for two-word features ( in increasing order of chi-squared t values)\n",
    "Print 3 unigrams with highest Chi squared stat\n",
    "Print 3 bigrams with highest Chi squared stat"
   ]
  },
  {
   "cell_type": "code",
   "execution_count": 82,
   "metadata": {},
   "outputs": [
    {
     "name": "stdout",
     "output_type": "stream",
     "text": [
      "# 'business':\n",
      "  . Most correlated unigrams:\n",
      "       . growth\n",
      "       . bank\n",
      "       . shares\n",
      "  . Most correlated bigrams:\n",
      "       . stock market\n",
      "       . economic growth\n",
      "       . analysts said\n",
      "# 'entertainment':\n",
      "  . Most correlated unigrams:\n",
      "       . singer\n",
      "       . actor\n",
      "       . film\n",
      "  . Most correlated bigrams:\n",
      "       . won best\n",
      "       . los angeles\n",
      "       . box office\n",
      "# 'politics':\n",
      "  . Most correlated unigrams:\n",
      "       . blair\n",
      "       . election\n",
      "       . labour\n",
      "  . Most correlated bigrams:\n",
      "       . prime minister\n",
      "       . tony blair\n",
      "       . mr blair\n",
      "# 'sport':\n",
      "  . Most correlated unigrams:\n",
      "       . match\n",
      "       . coach\n",
      "       . cup\n",
      "  . Most correlated bigrams:\n",
      "       . grand slam\n",
      "       . champions league\n",
      "       . australian open\n",
      "# 'tech':\n",
      "  . Most correlated unigrams:\n",
      "       . technology\n",
      "       . software\n",
      "       . users\n",
      "  . Most correlated bigrams:\n",
      "       . anti virus\n",
      "       . mobile phones\n",
      "       . mobile phone\n"
     ]
    }
   ],
   "source": [
    "# To Use chi-square analysis to find corelation between features and labels of news category\n",
    "\n",
    "from sklearn.feature_selection import chi2\n",
    "\n",
    "#To look for top 3 categories\n",
    "\n",
    "N = 3 \n",
    "\n",
    "#To find find words that are highly corelated to each category\n",
    "for Category, category_id in sorted(category_to_id.items()):\n",
    "  features_chi2 = chi2(features, labels == category_id)                  \n",
    "  indices = np.argsort(features_chi2[0])                                  \n",
    "  feature_names = np.array(tfidf.get_feature_names())[indices]            \n",
    "  unigrams = [v for v in feature_names if len(v.split(' ')) == 1]         \n",
    "  bigrams = [v for v in feature_names if len(v.split(' ')) == 2]          \n",
    "  print(\"# '{}':\".format(Category))\n",
    "  print(\"  . Most correlated unigrams:\\n       . {}\".format('\\n       . '.join(unigrams[-N:]))) \n",
    "  print(\"  . Most correlated bigrams:\\n       . {}\".format('\\n       . '.join(bigrams[-N:]))) \n"
   ]
  },
  {
   "cell_type": "code",
   "execution_count": 83,
   "metadata": {},
   "outputs": [
    {
     "data": {
      "text/plain": [
       "(array([0.13345481, 0.01563765, 0.00108776, ..., 0.00812363, 0.15434356,\n",
       "        0.120306  ]),\n",
       " array([0.71487652, 0.9004835 , 0.97368962, ..., 0.92818297, 0.69441858,\n",
       "        0.72870284]))"
      ]
     },
     "execution_count": 83,
     "metadata": {},
     "output_type": "execute_result"
    }
   ],
   "source": [
    "features_chi2"
   ]
  },
  {
   "cell_type": "code",
   "execution_count": 84,
   "metadata": {},
   "outputs": [],
   "source": [
    "#To import TSNE for \n",
    "from sklearn.manifold import TSNE"
   ]
  },
  {
   "cell_type": "code",
   "execution_count": 85,
   "metadata": {},
   "outputs": [],
   "source": [
    "# To sample a subset of the dataset to reduce t-SNE running time\n",
    "# To randomly 30% of the dataset\n",
    "SAMPLE_SIZE = int(len(features) * 0.3)\n",
    "np.random.seed(0)\n",
    "indices = np.random.choice(range(len(features)), size=SAMPLE_SIZE, replace=False) \n",
    "SAMPLE_SIZE = int(len(features) * 0.3)\n",
    "np.random.seed(0)\n",
    "indices = np.random.choice(range(len(features)), size=SAMPLE_SIZE, replace=False) \n",
    "\n",
    "projected_features = TSNE(n_components=2, random_state=0).fit_transform(features[indices]) # Array of all projected features of 30% of Randomly chosen samples"
   ]
  },
  {
   "cell_type": "code",
   "execution_count": 86,
   "metadata": {},
   "outputs": [
    {
     "data": {
      "text/plain": [
       "numpy.ndarray"
      ]
     },
     "execution_count": 86,
     "metadata": {},
     "output_type": "execute_result"
    }
   ],
   "source": [
    "type(projected_features)"
   ]
  },
  {
   "cell_type": "code",
   "execution_count": 87,
   "metadata": {},
   "outputs": [
    {
     "data": {
      "text/plain": [
       "array([[-17.409828  , -20.436989  ],\n",
       "       [ -9.56882   , -11.314312  ],\n",
       "       [-17.156994  ,  -6.452465  ],\n",
       "       [-10.862223  , -21.660397  ],\n",
       "       [-19.501608  ,   4.6090965 ],\n",
       "       [-11.990335  , -16.382895  ],\n",
       "       [-27.134926  ,  -2.8496113 ],\n",
       "       [ -9.668595  , -17.357132  ],\n",
       "       [  8.465661  ,  -9.051764  ],\n",
       "       [-19.876314  ,  -9.820042  ],\n",
       "       [  2.6430216 ,   3.9847393 ],\n",
       "       [-15.166494  , -10.5767145 ],\n",
       "       [ 15.052534  , -22.136509  ],\n",
       "       [-29.180244  , -15.261823  ],\n",
       "       [-11.231472  , -24.399818  ],\n",
       "       [-13.417371  , -11.908246  ],\n",
       "       [ -8.409627  , -11.635613  ],\n",
       "       [-11.572334  , -18.307085  ],\n",
       "       [-17.998095  , -14.864076  ],\n",
       "       [-26.832064  ,  -5.992347  ],\n",
       "       [ -0.91015923, -20.449903  ],\n",
       "       [-23.755339  , -14.732829  ],\n",
       "       [-17.284416  ,  -6.835661  ],\n",
       "       [-22.186396  , -10.912631  ],\n",
       "       [-11.207357  , -14.555125  ],\n",
       "       [-25.065447  , -10.098723  ],\n",
       "       [-22.816729  , -12.928076  ],\n",
       "       [-27.67401   , -10.1719885 ],\n",
       "       [ -9.118339  , -11.99525   ],\n",
       "       [-27.955767  , -10.499625  ],\n",
       "       [-26.545292  , -16.161661  ],\n",
       "       [-24.027119  , -16.473694  ],\n",
       "       [-14.79516   , -15.272359  ],\n",
       "       [ -6.3705096 ,  -7.112831  ],\n",
       "       [-14.128602  , -10.302936  ],\n",
       "       [ -9.533747  , -18.610142  ],\n",
       "       [-17.766403  , -18.052103  ],\n",
       "       [-16.84345   ,  -4.4271884 ],\n",
       "       [-11.293458  ,  -6.5615234 ],\n",
       "       [-10.506294  , -23.221987  ],\n",
       "       [-15.011385  ,  -3.6810048 ],\n",
       "       [-10.639915  , -13.557691  ],\n",
       "       [-12.014518  , -17.190329  ],\n",
       "       [-13.971309  ,  -4.182933  ],\n",
       "       [-25.494864  ,  -4.9497595 ],\n",
       "       [-27.915266  , -14.56043   ],\n",
       "       [-23.54696   , -20.41746   ],\n",
       "       [-15.415271  , -14.031589  ],\n",
       "       [ -6.3032465 ,  -7.0108976 ],\n",
       "       [-12.148467  , -25.222383  ],\n",
       "       [-15.740036  ,  -7.494536  ],\n",
       "       [-20.210625  , -13.451053  ],\n",
       "       [-24.854723  , -12.600436  ],\n",
       "       [ -2.8075676 , -15.790843  ],\n",
       "       [-23.797077  , -21.474707  ],\n",
       "       [-18.6075    , -10.536056  ],\n",
       "       [-10.798013  ,  -5.128354  ],\n",
       "       [-24.066378  , -16.331705  ],\n",
       "       [-12.710615  , -24.530416  ],\n",
       "       [  5.8064203 ,  11.155043  ],\n",
       "       [-23.962528  , -22.120123  ],\n",
       "       [-27.289322  ,  -6.720196  ],\n",
       "       [-20.56851   ,   4.343873  ],\n",
       "       [-18.200233  ,  -5.644349  ],\n",
       "       [-12.961266  , -22.224607  ],\n",
       "       [-20.417652  , -17.757792  ],\n",
       "       [-14.251963  ,  -5.1104255 ],\n",
       "       [-17.557909  , -20.306105  ],\n",
       "       [ -7.31841   , -15.609733  ],\n",
       "       [-22.45034   ,  -5.631934  ],\n",
       "       [-28.58256   ,  -4.901768  ],\n",
       "       [-25.14362   ,  -7.95412   ],\n",
       "       [-27.86038   , -17.526392  ],\n",
       "       [-28.206268  ,  -9.368433  ],\n",
       "       [-21.77698   , -17.196274  ],\n",
       "       [-27.263964  , -13.890188  ],\n",
       "       [-13.259843  , -16.125927  ],\n",
       "       [-28.56485   , -17.196064  ],\n",
       "       [-20.395626  , -13.975158  ],\n",
       "       [-19.20463   , -20.195503  ],\n",
       "       [ -3.1221137 , -11.877743  ],\n",
       "       [-11.75413   ,  -9.128307  ],\n",
       "       [ -8.907274  , -16.56575   ],\n",
       "       [-10.164448  ,  -4.1474376 ],\n",
       "       [-15.054415  ,  -5.537093  ],\n",
       "       [-17.066496  ,  -9.248455  ],\n",
       "       [-16.2962    , -22.28306   ],\n",
       "       [ -6.9397926 ,  -9.657516  ],\n",
       "       [-19.767227  , -18.181358  ],\n",
       "       [-17.893063  , -10.634359  ],\n",
       "       [  8.175356  ,  -9.073679  ],\n",
       "       [-24.549088  , -13.045889  ],\n",
       "       [-17.425495  , -12.520438  ],\n",
       "       [-18.223188  , -14.978001  ],\n",
       "       [-10.478902  , -22.389202  ],\n",
       "       [-29.765429  ,  -4.5992327 ],\n",
       "       [-28.82487   ,  -6.6644073 ],\n",
       "       [-13.227771  ,  -9.51348   ],\n",
       "       [-27.321543  ,  -2.9115357 ],\n",
       "       [ -0.7873483 ,   8.046617  ],\n",
       "       [-22.850811  ,  -5.6954923 ],\n",
       "       [-14.511301  , -19.545353  ],\n",
       "       [-12.932711  , -19.588549  ]], dtype=float32)"
      ]
     },
     "execution_count": 87,
     "metadata": {},
     "output_type": "execute_result"
    }
   ],
   "source": [
    "#To select a category ID\n",
    "my_id = 0 \n",
    "projected_features[(labels[indices] == my_id).values]"
   ]
  },
  {
   "cell_type": "code",
   "execution_count": 88,
   "metadata": {},
   "outputs": [
    {
     "data": {
      "text/plain": [
       "<matplotlib.legend.Legend at 0x1b29b3d8940>"
      ]
     },
     "execution_count": 88,
     "metadata": {},
     "output_type": "execute_result"
    },
    {
     "data": {
      "image/png": "[encoded data removed]",
      "text/plain": [
       "<Figure size 432x288 with 1 Axes>"
      ]
     },
     "metadata": {
      "needs_background": "light"
     },
     "output_type": "display_data"
    }
   ],
   "source": [
    "# To find points belonging to each category and plot them\n",
    "\n",
    "colors = ['pink', 'green', 'midnightblue', 'orange', 'yellow']\n",
    "\n",
    "for category, category_id in sorted(category_to_id.items()):\n",
    "    points = projected_features[(labels[indices] == category_id).values]\n",
    "    plt.scatter(points[:, 0], points[:, 1], s=30, c=colors[category_id], label=category)\n",
    "plt.title(\"tf-idf feature vector for each article, projected on 2 dimensions.\",\n",
    "          fontdict=dict(fontsize=15))\n",
    "plt.legend()"
   ]
  },
  {
   "cell_type": "code",
   "execution_count": 89,
   "metadata": {},
   "outputs": [],
   "source": [
    "# To load the algorith for the training dataset\n",
    "\n",
    "from sklearn.linear_model import LogisticRegression\n",
    "from sklearn.ensemble import RandomForestClassifier\n",
    "from sklearn.naive_bayes import MultinomialNB\n",
    "\n",
    "from sklearn.model_selection import cross_val_score\n",
    "\n",
    "\n",
    "models = [\n",
    "    RandomForestClassifier(n_estimators=200, max_depth=3, random_state=0),\n",
    "    MultinomialNB(),\n",
    "    LogisticRegression(random_state=0),\n",
    "]"
   ]
  },
  {
   "cell_type": "code",
   "execution_count": 90,
   "metadata": {},
   "outputs": [],
   "source": [
    "from sklearn.model_selection import train_test_split\n",
    "\n",
    "model = LogisticRegression(random_state=0)\n",
    "\n",
    "#Split Data \n",
    "X_train, X_test, y_train, y_test, indices_train, indices_test = train_test_split(features, labels, df.index, test_size=0.33, random_state=0)\n",
    "\n",
    "#Train Algorithm\n",
    "model.fit(X_train, y_train)\n",
    "\n",
    "# Make Predictions\n",
    "y_pred_proba = model.predict_proba(X_test)\n",
    "y_pred = model.predict(X_test)"
   ]
  },
  {
   "cell_type": "code",
   "execution_count": 91,
   "metadata": {},
   "outputs": [
    {
     "data": {
      "text/plain": [
       "Text(0.5, 15.0, 'Predicted')"
      ]
     },
     "execution_count": 91,
     "metadata": {},
     "output_type": "execute_result"
    },
    {
     "data": {
      "image/png": "[encoded data removed]",
      "text/plain": [
       "<Figure size 432x288 with 2 Axes>"
      ]
     },
     "metadata": {
      "needs_background": "light"
     },
     "output_type": "display_data"
    }
   ],
   "source": [
    "from sklearn.metrics import confusion_matrix\n",
    "import seaborn as sns\n",
    "\n",
    "conf_mat = confusion_matrix(y_test, y_pred)\n",
    "sns.heatmap(conf_mat, annot=True, fmt='d',\n",
    "            xticklabels=category_id_df.Category.values, yticklabels=category_id_df.Category.values)\n",
    "plt.ylabel('Actual')\n",
    "plt.xlabel('Predicted')"
   ]
  },
  {
   "cell_type": "code",
   "execution_count": 92,
   "metadata": {},
   "outputs": [
    {
     "data": {
      "text/plain": [
       "LogisticRegression(random_state=0)"
      ]
     },
     "execution_count": 92,
     "metadata": {},
     "output_type": "execute_result"
    }
   ],
   "source": [
    "model.fit(features, labels)"
   ]
  },
  {
   "cell_type": "code",
   "execution_count": 93,
   "metadata": {},
   "outputs": [
    {
     "data": {
      "text/plain": [
       "array([[ 0.46799432,  0.01813872, -0.0715333 , ..., -0.03318298,\n",
       "         0.0068823 , -0.02849203],\n",
       "       [-0.02957523, -0.04366737, -0.01371468, ...,  0.00362675,\n",
       "        -0.02877942, -0.02070068],\n",
       "       [ 0.05006025, -0.05159908, -0.04674601, ..., -0.00638322,\n",
       "        -0.03112648, -0.02362395],\n",
       "       [-0.61687406, -0.04152046, -0.05352312, ...,  0.08450437,\n",
       "         0.08574049,  0.09981232],\n",
       "       [ 0.12839471,  0.11864819,  0.18551711, ..., -0.04856492,\n",
       "        -0.03271689, -0.02699566]])"
      ]
     },
     "execution_count": 93,
     "metadata": {},
     "output_type": "execute_result"
    }
   ],
   "source": [
    "# model.coef_ contains the importance of each feature for each category\n",
    "model.coef_"
   ]
  },
  {
   "cell_type": "code",
   "execution_count": 94,
   "metadata": {},
   "outputs": [
    {
     "name": "stdout",
     "output_type": "stream",
     "text": [
      "# 'business':\n",
      "  . Top unigrams:\n",
      "       . firm\n",
      "       . bank\n",
      "       . company\n",
      "       . shares\n",
      "       . market\n",
      "  . Top bigrams:\n",
      "       . chief executive\n",
      "       . analysts said\n",
      "       . stock market\n",
      "       . economic growth\n",
      "       . oil prices\n",
      "# 'entertainment':\n",
      "  . Top unigrams:\n",
      "       . film\n",
      "       . music\n",
      "       . singer\n",
      "       . star\n",
      "       . band\n",
      "  . Top bigrams:\n",
      "       . box office\n",
      "       . los angeles\n",
      "       . film festival\n",
      "       . new york\n",
      "       . big brother\n",
      "# 'politics':\n",
      "  . Top unigrams:\n",
      "       . labour\n",
      "       . mr\n",
      "       . party\n",
      "       . election\n",
      "       . government\n",
      "  . Top bigrams:\n",
      "       . mr blair\n",
      "       . prime minister\n",
      "       . tony blair\n",
      "       . general election\n",
      "       . mr brown\n",
      "# 'sport':\n",
      "  . Top unigrams:\n",
      "       . match\n",
      "       . win\n",
      "       . game\n",
      "       . coach\n",
      "       . cup\n",
      "  . Top bigrams:\n",
      "       . year old\n",
      "       . australian open\n",
      "       . champions league\n",
      "       . world cup\n",
      "       . grand slam\n",
      "# 'tech':\n",
      "  . Top unigrams:\n",
      "       . users\n",
      "       . software\n",
      "       . computer\n",
      "       . technology\n",
      "       . online\n",
      "  . Top bigrams:\n",
      "       . said mr\n",
      "       . news website\n",
      "       . bbc news\n",
      "       . mobile phone\n",
      "       . mobile phones\n"
     ]
    }
   ],
   "source": [
    "from sklearn.feature_selection import chi2\n",
    "\n",
    "N = 5\n",
    "for Category, category_id in sorted(category_to_id.items()):\n",
    "  indices = np.argsort(model.coef_[category_id])   # This time using the model co-eficients / weights\n",
    "  feature_names = np.array(tfidf.get_feature_names())[indices]\n",
    "  unigrams = [v for v in reversed(feature_names) if len(v.split(' ')) == 1][:N]\n",
    "  bigrams = [v for v in reversed(feature_names) if len(v.split(' ')) == 2][:N]\n",
    "  print(\"# '{}':\".format(Category))\n",
    "  print(\"  . Top unigrams:\\n       . {}\".format('\\n       . '.join(unigrams)))\n",
    "  print(\"  . Top bigrams:\\n       . {}\".format('\\n       . '.join(bigrams)))"
   ]
  },
  {
   "cell_type": "code",
   "execution_count": 98,
   "metadata": {},
   "outputs": [
    {
     "name": "stdout",
     "output_type": "stream",
     "text": [
      "\"Surfside tower collapse: Final victim identified from rubble\"\n",
      "  - Predicted as: 'sport'\n",
      "\n",
      "\"Will lockdown change England's new tech habits?\"\n",
      "  - Predicted as: 'sport'\n",
      "\n",
      "\"GB's Georgia Taylor-Brown wins silver in women's triathlon as Flora Duffy claims historic gold for Bermuda\"\n",
      "  - Predicted as: 'sport'\n",
      "\n",
      "\"House prices at new high as buyers seek more space\"\n",
      "  - Predicted as: 'business'\n",
      "\n",
      "\"A computer key that can unlock the files of hundreds of companies which were hacked in a large-scale cyber-attack has been obtained\"\n",
      "  - Predicted as: 'tech'\n",
      "\n",
      "\"Hooli stock price soared after a dip in PiedPiper revenue growth.\"\n",
      "  - Predicted as: 'business'\n",
      "\n",
      "\"Captain Tsubasa scores a magnificent goal for the Japanese team.\"\n",
      "  - Predicted as: 'sport'\n",
      "\n",
      "\"Merryweather mercenaries are sent on another mission, as government oversight groups call for new sanctions.\"\n",
      "  - Predicted as: 'business'\n",
      "\n",
      "\"Beyoncé releases a new album, tops the charts in all of south-east Asia!\"\n",
      "  - Predicted as: 'entertainment'\n",
      "\n",
      "\"You won't guess what the latest trend in data analysis is!\"\n",
      "  - Predicted as: 'tech'\n",
      "\n"
     ]
    }
   ],
   "source": [
    "texts= [\"Surfside tower collapse: Final victim identified from rubble\",\n",
    "         \"Will lockdown change England's new tech habits?\",\n",
    "         \"GB's Georgia Taylor-Brown wins silver in women's triathlon as Flora Duffy claims historic gold for Bermuda\",\n",
    "         \"House prices at new high as buyers seek more space\",\n",
    "         \"A computer key that can unlock the files of hundreds of companies which were hacked in a large-scale cyber-attack has been obtained\",\n",
    "         \"Hooli stock price soared after a dip in PiedPiper revenue growth.\",\n",
    "         \"Captain Tsubasa scores a magnificent goal for the Japanese team.\",\n",
    "         \"Merryweather mercenaries are sent on another mission, as government oversight groups call for new sanctions.\",\n",
    "         \"Beyoncé releases a new album, tops the charts in all of south-east Asia!\",\n",
    "         \"You won't guess what the latest trend in data analysis is!\" ]\n",
    "text_features = tfidf.transform(texts)\n",
    "predictions = model.predict(text_features)\n",
    "for text, predicted in zip(texts, predictions):\n",
    "  print('\"{}\"'.format(text))\n",
    "  print(\"  - Predicted as: '{}'\".format(id_to_category[predicted]))\n",
    "  print(\"\")"
   ]
  },
  {
   "cell_type": "code",
   "execution_count": null,
   "metadata": {},
   "outputs": [],
   "source": []
  },
  {
   "cell_type": "code",
   "execution_count": null,
   "metadata": {},
   "outputs": [],
   "source": []
  }
 ],
 "metadata": {
  "kernelspec": {
   "display_name": "Python 3",
   "language": "python",
   "name": "python3"
  },
  "language_info": {
   "codemirror_mode": {
    "name": "ipython",
    "version": 3
   },
   "file_extension": ".py",
   "mimetype": "text/x-python",
   "name": "python",
   "nbconvert_exporter": "python",
   "pygments_lexer": "ipython3",
   "version": "3.8.8"
  }
 },
 "nbformat": 4,
 "nbformat_minor": 4
}
